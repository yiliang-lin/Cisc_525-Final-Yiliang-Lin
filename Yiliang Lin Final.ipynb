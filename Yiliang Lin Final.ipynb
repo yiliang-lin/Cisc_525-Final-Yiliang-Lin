{
 "cells": [
  {
   "cell_type": "markdown",
   "metadata": {},
   "source": [
    "# CISC 525 Summer 2020 - Final Exam (Yiliang Lin)\n",
    "You may want to revisit lecture from Mondule 9 on NoSQL database.\n",
    "I provided instructions on installing necessary software package\n",
    "to work with MongoDB using Python 3.\n"
   ]
  },
  {
   "cell_type": "code",
   "execution_count": 1,
   "metadata": {},
   "outputs": [],
   "source": [
    "from pymongo import MongoClient\n",
    "#include pprint for readabillity of the \n",
    "from pprint import pprint  # pretty print\n",
    "from random import randint\n",
    "\n",
    "#change the MongoClient connection string to your MongoDB database instance\n",
    "client = MongoClient(port=27017)\n",
    "airline = client.airline"
   ]
  },
  {
   "cell_type": "markdown",
   "metadata": {},
   "source": [
    "## Importing airline performance data\n",
    "You **`must`** fix the content of line `1253` in the `airports.csv` file\n",
    "from: \n",
    "\n",
    "```\n",
    "\"DBN\",\"W. H. \\\"Bud\\\" Barron \",\"Dublin\",\"GA\",\"USA\",32.56445806,-82.98525556\n",
    "```\n",
    "\n",
    "to \n",
    "\n",
    "```\n",
    "\"DBN\",\"W. H. Bud Barron \",\"Dublin\",\"GA\",\"USA\",32.56445806,-82.98525556\n",
    "```\n",
    "\n",
    "Open a terminal from your VM. Run the follow commands to import\n",
    "airline performance data into your mongodb database.\n",
    "\n",
    "```bash\n",
    "cd ~/cisc_525/cisc-525-util/data/airline\n",
    "mongoimport --db airline --collection planes --type csv --headerline --file ./plane-data.csv\n",
    "mongoimport --db airline --collection carriers --type csv --headerline --file ./carriers.csv\n",
    "mongoimport --db airline --collection airports --type csv --headerline --file ./airports.csv\n",
    "```\n",
    "\n",
    "You should see the output as follows:\n",
    "\n",
    "```shelscript\n",
    "kiet@student-VirtualBox:~/cisc_525/cisc-525-util/data/airline$ mongoimport --db airline --collection planes --type csv --headerline --file ./plane-data.csv\n",
    "2020-04-11T15:13:03.821-0400\tconnected to: localhost\n",
    "2020-04-11T15:13:03.881-0400\timported 5029 documents\n",
    "kiet@student-VirtualBox:~/cisc_525/cisc-525-util/data/airline$ mongoimport --db airline --collection carriers --type csv --headerline --file ./carriers.csv\n",
    "2020-04-11T15:13:03.889-0400\tconnected to: localhost\n",
    "2020-04-11T15:13:03.906-0400\timported 1491 documents\n",
    "kiet@student-VirtualBox:~/cisc_525/cisc-525-util/data/airline$ mongoimport --db airline --collection airports --type csv --headerline --file ./airports.csv\n",
    "2020-04-11T15:48:34.888-0400\tconnected to: localhost\n",
    "2020-04-11T15:48:34.931-0400\timported 3376 documents\n",
    "```\n",
    "Ignore the error message on extraneous column for now. \n",
    "\n",
    "Verify that you import your data correct as follows:"
   ]
  },
  {
   "cell_type": "markdown",
   "metadata": {},
   "source": [
    "## Verify imported data"
   ]
  },
  {
   "cell_type": "code",
   "execution_count": 2,
   "metadata": {},
   "outputs": [
    {
     "name": "stdout",
     "output_type": "stream",
     "text": [
      "5029 plane types\n",
      "1491 carriers\n",
      "1000 airports\n"
     ]
    }
   ],
   "source": [
    "# Verify the counts ...\n",
    "print(airline.planes.find().collection.estimated_document_count(), 'plane types')\n",
    "print(airline.carriers.find().collection.estimated_document_count(), 'carriers')\n",
    "print(airline.airports.find().collection.estimated_document_count(), 'airports')"
   ]
  },
  {
   "cell_type": "markdown",
   "metadata": {},
   "source": [
    "## What are the attributes/fields for the airports, carriers, and planes collections?\n",
    "### Plane data type:\n",
    "- tailnum\n",
    "- type\n",
    "- manufacturer\n",
    "- issue_date\n",
    "- model\n",
    "- status\n",
    "- aircraft_type\n",
    "- engine_type\n",
    "- year\n",
    "\n",
    "### Carrier:\n",
    "- Code\n",
    "- Description\n",
    "\n",
    "### Airport:\n",
    "- iata\n",
    "- airport\n",
    "- city\n",
    "- state\n",
    "- country\n",
    "- lat\n",
    "- long"
   ]
  },
  {
   "cell_type": "code",
   "execution_count": 3,
   "metadata": {},
   "outputs": [
    {
     "data": {
      "text/plain": [
       "{'_id': ObjectId('5f8a0337c9f3645710ac6df5'),\n",
       " 'tailnum': 'N11107',\n",
       " 'type': 'Corporation',\n",
       " 'manufacturer': 'EMBRAER',\n",
       " 'issue_date': '06/25/2003',\n",
       " 'model': 'EMB-145XR',\n",
       " 'status': 'Valid',\n",
       " 'aircraft_type': 'Fixed Wing Multi-Engine',\n",
       " 'engine_type': 'Turbo-Fan',\n",
       " 'year': 2002}"
      ]
     },
     "execution_count": 3,
     "metadata": {},
     "output_type": "execute_result"
    }
   ],
   "source": [
    "airline.planes.find()[50]"
   ]
  },
  {
   "cell_type": "code",
   "execution_count": 4,
   "metadata": {},
   "outputs": [
    {
     "data": {
      "text/plain": [
       "{'_id': ObjectId('5f8a0341c9f3645710ac8174'),\n",
       " 'Code': '09Q',\n",
       " 'Description': 'Swift Air, LLC'}"
      ]
     },
     "execution_count": 4,
     "metadata": {},
     "output_type": "execute_result"
    }
   ],
   "source": [
    "airline.carriers.find()[0]"
   ]
  },
  {
   "cell_type": "code",
   "execution_count": 5,
   "metadata": {},
   "outputs": [
    {
     "data": {
      "text/plain": [
       "{'_id': ObjectId('5f8a034bc9f3645710ac874f'),\n",
       " 'iata': '00V',\n",
       " 'airport': 'Meadow Lake',\n",
       " 'city': 'Colorado Springs',\n",
       " 'state': 'CO',\n",
       " 'country': 'USA',\n",
       " 'lat': 38.94574889,\n",
       " 'long': -104.5698933}"
      ]
     },
     "execution_count": 5,
     "metadata": {},
     "output_type": "execute_result"
    }
   ],
   "source": [
    "airline.airports.find()[0]"
   ]
  },
  {
   "cell_type": "markdown",
   "metadata": {},
   "source": [
    "## How many countries are in the airports collection\n",
    "Attribute `country` "
   ]
  },
  {
   "cell_type": "code",
   "execution_count": 6,
   "metadata": {},
   "outputs": [
    {
     "name": "stdout",
     "output_type": "stream",
     "text": [
      "1 distinct countries\n"
     ]
    }
   ],
   "source": [
    "\n",
    "airports = airline.airports.distinct('country')\n",
    "print(len(airports), 'distinct countries')\n",
    "# for airport in airports:\n",
    "#     print(airport)"
   ]
  },
  {
   "cell_type": "markdown",
   "metadata": {},
   "source": [
    "## How many plane manufacters are in the planes collection?\n",
    "Attribute `manufacturer`"
   ]
  },
  {
   "cell_type": "code",
   "execution_count": 7,
   "metadata": {},
   "outputs": [
    {
     "name": "stdout",
     "output_type": "stream",
     "text": [
      "39 manufacturers of airplanes\n"
     ]
    }
   ],
   "source": [
    "manufacturers = airline.planes.distinct('manufacturer')\n",
    "print(len(manufacturers), 'manufacturers of airplanes')\n",
    "# manufacturers\n",
    "# for manufacturer in manufacturers:\n",
    "#     print(manufacturer)"
   ]
  },
  {
   "cell_type": "markdown",
   "metadata": {},
   "source": [
    "## How many states are in the airports collections\n",
    "Attribute `state`"
   ]
  },
  {
   "cell_type": "code",
   "execution_count": 8,
   "metadata": {},
   "outputs": [
    {
     "name": "stdout",
     "output_type": "stream",
     "text": [
      "51 states and territorries\n"
     ]
    }
   ],
   "source": [
    "\n",
    "states_and_territorries = airline.airports.distinct('state')\n",
    "print(len(states_and_territorries), 'states and territorries')\n",
    "# for state in states_and_territorries:\n",
    "#     print(state)\n"
   ]
  },
  {
   "cell_type": "markdown",
   "metadata": {},
   "source": [
    "## How many airports are in the state of HI?"
   ]
  },
  {
   "cell_type": "code",
   "execution_count": 9,
   "metadata": {
    "scrolled": false
   },
   "outputs": [
    {
     "name": "stdout",
     "output_type": "stream",
     "text": [
      "** 0 airports in the State of Hawaii\n"
     ]
    }
   ],
   "source": [
    "hi_airports = list(airline.airports.find({'state':'HI'}))\n",
    "# for hi_airport in hi_airports:\n",
    "#     print(hi_airport['airport'])\n",
    "print('**', len(hi_airports), 'airports in the State of Hawaii')    "
   ]
  },
  {
   "cell_type": "code",
   "execution_count": null,
   "metadata": {},
   "outputs": [],
   "source": [
    "## Assignment\n",
    "Answer the following questions:\n",
    "\n",
    "1. How many plane types (use `type`) are there?\n",
    "2. How many planes `BOEING` made over the years?\n",
    "3. How many aircraft types (use `aircraft_type`) are there?\n",
    "4. How many types of planes `CESSNA` (use `manufacturer` and `aircaft_type`, made over the years?\n",
    "5. List aircraft types made by each manufacturer\n",
    "6. List number of planes make by each manufacturer\n",
    "7. Which manufacturer makes the `least` planes?\n",
    "8. Which manufacturer makes the `most` planes?\n",
    "9. Which state has the `most` airports?\n",
    "10. Which state has the `least` airports?\n",
    "11. Which state has the `second` largest number of airports?\n",
    "12. List all the years in the `planes` collection. Exclude (0 and 'None')\n",
    "13. Which year produced the `most` planes?\n",
    "14. Which year produced the `least` planes?\n",
    "15. List number of planes by aircraft types\n",
    "16. List engine types made by each manufacturer\n",
    "17. List planes made by aircraft types\n",
    "18. List planes made by engine type"
   ]
  },
  {
   "cell_type": "code",
   "execution_count": 11,
   "metadata": {},
   "outputs": [
    {
     "name": "stdout",
     "output_type": "stream",
     "text": [
      "5 typess of airplanes\n"
     ]
    }
   ],
   "source": [
    "## 1.How many plane types (use `type`) are there?\n",
    "types = airline.planes.distinct('type')\n",
    "print(len(types), 'typess of airplanes')"
   ]
  },
  {
   "cell_type": "code",
   "execution_count": 12,
   "metadata": {},
   "outputs": [
    {
     "name": "stdout",
     "output_type": "stream",
     "text": [
      "** 2061 planes were made over years\n"
     ]
    }
   ],
   "source": [
    "## 2.How many planes `BOEING` made over the years?\n",
    "Num_Boeing = list(airline.planes.find({'manufacturer':'BOEING'}))\n",
    "print('**', len(Num_Boeing), 'planes were made over years')   "
   ]
  },
  {
   "cell_type": "code",
   "execution_count": 13,
   "metadata": {},
   "outputs": [
    {
     "name": "stdout",
     "output_type": "stream",
     "text": [
      "4 aircraft types\n"
     ]
    }
   ],
   "source": [
    "## 3.How many aircraft types (use `aircraft_type`) are there?\n",
    "aircraft_type = airline.planes.distinct('aircraft_type')\n",
    "print(len(aircraft_type), 'aircraft types')"
   ]
  },
  {
   "cell_type": "code",
   "execution_count": 116,
   "metadata": {},
   "outputs": [
    {
     "name": "stdout",
     "output_type": "stream",
     "text": [
      "2 aircraft types CESSNA made\n"
     ]
    }
   ],
   "source": [
    "## 4.How many types of planes `CESSNA` (use `manufacturer` and `aircaft_type`, made over the years?\n",
    "CESSNA = airline.planes.find({'manufacturer':'CESSNA'})\n",
    "aircraft_type = CESSNA.distinct('aircraft_type')\n",
    "print(len(aircraft_type), 'aircraft types CESSNA made')"
   ]
  },
  {
   "cell_type": "code",
   "execution_count": 117,
   "metadata": {},
   "outputs": [
    {
     "name": "stdout",
     "output_type": "stream",
     "text": [
      "AERO COMMANDER : ['Fixed Wing Multi-Engine']\n",
      "AERONCA : ['Fixed Wing Single-Engine']\n",
      "AEROSPATIALE : ['Fixed Wing Multi-Engine', 'Rotorcraft']\n",
      "AEROSPATIALE/ALENIA : ['Fixed Wing Multi-Engine']\n",
      "AGUSTA SPA : ['Rotorcraft']\n",
      "AIRBUS : ['Fixed Wing Multi-Engine']\n",
      "AIRBUS INDUSTRIE : ['Fixed Wing Multi-Engine']\n",
      "AVIAT AIRCRAFT INC : ['Fixed Wing Single-Engine']\n",
      "BAUMAN RANDY : ['Fixed Wing Single-Engine']\n",
      "BEECH : ['Fixed Wing Multi-Engine']\n",
      "BELL : ['Rotorcraft']\n",
      "BOEING : ['Fixed Wing Multi-Engine']\n",
      "BOEING OF CANADA LTD : ['Fixed Wing Multi-Engine']\n",
      "BOMBARDIER INC : ['Fixed Wing Multi-Engine']\n",
      "CANADAIR : ['Fixed Wing Multi-Engine']\n",
      "CESSNA : ['Fixed Wing Multi-Engine', 'Fixed Wing Single-Engine']\n",
      "COBB INTL/DBA ROTORWAY INTL IN : ['Rotorcraft']\n",
      "DEHAVILLAND : ['Fixed Wing Multi-Engine', 'Fixed Wing Single-Engine']\n",
      "DIAMOND AIRCRAFT IND INC : ['Fixed Wing Single-Engine']\n",
      "DOUGLAS : ['Fixed Wing Multi-Engine']\n",
      "EMBRAER : ['Fixed Wing Multi-Engine']\n",
      "FREDERICK CHRIS K : ['Fixed Wing Single-Engine']\n",
      "FRIEDEMANN JON : ['Fixed Wing Single-Engine']\n",
      "GULFSTREAM AEROSPACE : ['Fixed Wing Multi-Engine']\n",
      "HELIO : ['Fixed Wing Single-Engine']\n",
      "LEBLANC GLENN T : ['Fixed Wing Single-Engine']\n",
      "MARZ BARRY : ['Fixed Wing Single-Engine']\n",
      "MAULE : ['Fixed Wing Single-Engine']\n",
      "MCDONNELL DOUGLAS : ['Fixed Wing Multi-Engine']\n",
      "MCDONNELL DOUGLAS AIRCRAFT CO : ['Fixed Wing Multi-Engine']\n",
      "MCDONNELL DOUGLAS CORPORATION : ['Fixed Wing Multi-Engine']\n",
      "MORSE GEORGE JR : ['Fixed Wing Single-Engine']\n",
      "PAIR MIKE E : ['Fixed Wing Single-Engine']\n",
      "PIPER : ['Fixed Wing Multi-Engine', 'Fixed Wing Single-Engine']\n",
      "RAVEN : ['Balloon']\n",
      "SAAB-SCANIA : ['Fixed Wing Multi-Engine']\n",
      "SIKORSKY : ['Rotorcraft']\n",
      "STINNETT RON : ['Fixed Wing Single-Engine']\n",
      "WOBIG WAYNE R : ['Fixed Wing Single-Engine']\n"
     ]
    }
   ],
   "source": [
    "## 5.List aircraft types made by each manufacturer\n",
    "planes = airline.planes.distinct('manufacturer')\n",
    "for manufacturer in planes:\n",
    "    m = manufacturer\n",
    "    t = airline.planes.find({'manufacturer':m})\n",
    "    types = t.distinct('aircraft_type')\n",
    "    print(m,':',types)"
   ]
  },
  {
   "cell_type": "code",
   "execution_count": 119,
   "metadata": {},
   "outputs": [
    {
     "name": "stdout",
     "output_type": "stream",
     "text": [
      "AERO COMMANDER : 1\n",
      "AERONCA : 1\n",
      "AEROSPATIALE : 2\n",
      "AEROSPATIALE/ALENIA : 1\n",
      "AGUSTA SPA : 1\n",
      "AIRBUS : 1\n",
      "AIRBUS INDUSTRIE : 1\n",
      "AVIAT AIRCRAFT INC : 1\n",
      "BAUMAN RANDY : 1\n",
      "BEECH : 1\n",
      "BELL : 1\n",
      "BOEING : 1\n",
      "BOEING OF CANADA LTD : 1\n",
      "BOMBARDIER INC : 1\n",
      "CANADAIR : 1\n",
      "CESSNA : 2\n",
      "COBB INTL/DBA ROTORWAY INTL IN : 1\n",
      "DEHAVILLAND : 2\n",
      "DIAMOND AIRCRAFT IND INC : 1\n",
      "DOUGLAS : 1\n",
      "EMBRAER : 1\n",
      "FREDERICK CHRIS K : 1\n",
      "FRIEDEMANN JON : 1\n",
      "GULFSTREAM AEROSPACE : 1\n",
      "HELIO : 1\n",
      "LEBLANC GLENN T : 1\n",
      "MARZ BARRY : 1\n",
      "MAULE : 1\n",
      "MCDONNELL DOUGLAS : 1\n",
      "MCDONNELL DOUGLAS AIRCRAFT CO : 1\n",
      "MCDONNELL DOUGLAS CORPORATION : 1\n",
      "MORSE GEORGE JR : 1\n",
      "PAIR MIKE E : 1\n",
      "PIPER : 2\n",
      "RAVEN : 1\n",
      "SAAB-SCANIA : 1\n",
      "SIKORSKY : 1\n",
      "STINNETT RON : 1\n",
      "WOBIG WAYNE R : 1\n"
     ]
    }
   ],
   "source": [
    "## 6.List number of planes make by each manufacturer\n",
    "planes = airline.planes.distinct('manufacturer')\n",
    "for manufacturer in planes:\n",
    "    m = manufacturer\n",
    "    t = airline.planes.find({'manufacturer':m})\n",
    "    types = t.distinct('aircraft_type')\n",
    "    print(m,':',len(types))"
   ]
  },
  {
   "cell_type": "code",
   "execution_count": 150,
   "metadata": {},
   "outputs": [
    {
     "name": "stdout",
     "output_type": "stream",
     "text": [
      "AERO COMMANDER 2\n",
      "AERONCA 1\n",
      "AEROSPATIALE 8\n",
      "AEROSPATIALE/ALENIA 6\n",
      "AGUSTA SPA 1\n",
      "AIRBUS 244\n",
      "AIRBUS INDUSTRIE 434\n",
      "AVIAT AIRCRAFT INC 2\n",
      "BAUMAN RANDY 1\n",
      "BEECH 5\n",
      "BELL 1\n",
      "BOEING 2061\n",
      "BOEING OF CANADA LTD 1\n",
      "BOMBARDIER INC 547\n",
      "CANADAIR 86\n",
      "CESSNA 12\n",
      "COBB INTL/DBA ROTORWAY INTL IN 1\n",
      "DEHAVILLAND 17\n",
      "DIAMOND AIRCRAFT IND INC 1\n",
      "DOUGLAS 36\n",
      "EMBRAER 588\n",
      "FREDERICK CHRIS K 1\n",
      "FRIEDEMANN JON 1\n",
      "GULFSTREAM AEROSPACE 2\n",
      "HELIO 1\n",
      "LEBLANC GLENN T 1\n",
      "MARZ BARRY 1\n",
      "MAULE 2\n",
      "MCDONNELL DOUGLAS 253\n",
      "MCDONNELL DOUGLAS AIRCRAFT CO 105\n",
      "MCDONNELL DOUGLAS CORPORATION 14\n",
      "MORSE GEORGE JR 1\n",
      "PAIR MIKE E 1\n",
      "PIPER 6\n",
      "RAVEN 3\n",
      "SAAB-SCANIA 28\n",
      "SIKORSKY 3\n",
      "STINNETT RON 1\n",
      "WOBIG WAYNE R 1\n"
     ]
    }
   ],
   "source": [
    "## 7.Which manufacturer makes the `least` planes?\n",
    "planes = airline.planes.distinct('manufacturer')\n",
    "for manufacturer in planes:\n",
    "    m = manufacturer\n",
    "    Num = list(airline.planes.find({'manufacturer':m}))\n",
    "    print(m,len(Num))"
   ]
  },
  {
   "cell_type": "code",
   "execution_count": 151,
   "metadata": {},
   "outputs": [
    {
     "name": "stdout",
     "output_type": "stream",
     "text": [
      "AERO COMMANDER 2\n",
      "AERONCA 1\n",
      "AEROSPATIALE 8\n",
      "AEROSPATIALE/ALENIA 6\n",
      "AGUSTA SPA 1\n",
      "AIRBUS 244\n",
      "AIRBUS INDUSTRIE 434\n",
      "AVIAT AIRCRAFT INC 2\n",
      "BAUMAN RANDY 1\n",
      "BEECH 5\n",
      "BELL 1\n",
      "BOEING 2061\n",
      "BOEING OF CANADA LTD 1\n",
      "BOMBARDIER INC 547\n",
      "CANADAIR 86\n",
      "CESSNA 12\n",
      "COBB INTL/DBA ROTORWAY INTL IN 1\n",
      "DEHAVILLAND 17\n",
      "DIAMOND AIRCRAFT IND INC 1\n",
      "DOUGLAS 36\n",
      "EMBRAER 588\n",
      "FREDERICK CHRIS K 1\n",
      "FRIEDEMANN JON 1\n",
      "GULFSTREAM AEROSPACE 2\n",
      "HELIO 1\n",
      "LEBLANC GLENN T 1\n",
      "MARZ BARRY 1\n",
      "MAULE 2\n",
      "MCDONNELL DOUGLAS 253\n",
      "MCDONNELL DOUGLAS AIRCRAFT CO 105\n",
      "MCDONNELL DOUGLAS CORPORATION 14\n",
      "MORSE GEORGE JR 1\n",
      "PAIR MIKE E 1\n",
      "PIPER 6\n",
      "RAVEN 3\n",
      "SAAB-SCANIA 28\n",
      "SIKORSKY 3\n",
      "STINNETT RON 1\n",
      "WOBIG WAYNE R 1\n"
     ]
    }
   ],
   "source": [
    "## 8.Which manufacturer makes the `most` planes?\n",
    "planes = airline.planes.distinct('manufacturer')\n",
    "for manufacturer in planes:\n",
    "    m = manufacturer\n",
    "    Num = list(airline.planes.find({'manufacturer':m}))\n",
    "    print(m,len(Num))"
   ]
  },
  {
   "cell_type": "code",
   "execution_count": 154,
   "metadata": {},
   "outputs": [
    {
     "name": "stdout",
     "output_type": "stream",
     "text": [
      "AK 78\n",
      "AL 48\n",
      "AR 28\n",
      "AZ 6\n",
      "CA 30\n",
      "CO 21\n",
      "CT 7\n",
      "DC 1\n",
      "DE 1\n",
      "FL 18\n",
      "GA 45\n",
      "IA 14\n",
      "ID 4\n",
      "IL 21\n",
      "IN 12\n",
      "KS 18\n",
      "KY 14\n",
      "LA 21\n",
      "MA 11\n",
      "MD 3\n",
      "ME 15\n",
      "MI 36\n",
      "MN 23\n",
      "MO 11\n",
      "MS 27\n",
      "MT 35\n",
      "NC 17\n",
      "ND 14\n",
      "NE 30\n",
      "NH 3\n",
      "NJ 14\n",
      "NM 12\n",
      "NV 13\n",
      "NY 38\n",
      "OH 33\n",
      "OK 36\n",
      "OR 25\n",
      "PA 20\n",
      "PR 2\n",
      "RI 1\n",
      "SC 20\n",
      "SD 25\n",
      "TN 19\n",
      "TX 57\n",
      "UT 10\n",
      "VA 4\n",
      "VT 5\n",
      "WA 17\n",
      "WI 24\n",
      "WV 9\n",
      "WY 4\n"
     ]
    }
   ],
   "source": [
    "## 9.Which state has the `most` airports?\n",
    "airport = airline.airports.distinct('state')\n",
    "for state in airport:\n",
    "    m = state\n",
    "    Num = list(airline.airports.find({'state':m}))\n",
    "    print(m,len(Num))"
   ]
  },
  {
   "cell_type": "code",
   "execution_count": 155,
   "metadata": {},
   "outputs": [
    {
     "name": "stdout",
     "output_type": "stream",
     "text": [
      "AK 78\n",
      "AL 48\n",
      "AR 28\n",
      "AZ 6\n",
      "CA 30\n",
      "CO 21\n",
      "CT 7\n",
      "DC 1\n",
      "DE 1\n",
      "FL 18\n",
      "GA 45\n",
      "IA 14\n",
      "ID 4\n",
      "IL 21\n",
      "IN 12\n",
      "KS 18\n",
      "KY 14\n",
      "LA 21\n",
      "MA 11\n",
      "MD 3\n",
      "ME 15\n",
      "MI 36\n",
      "MN 23\n",
      "MO 11\n",
      "MS 27\n",
      "MT 35\n",
      "NC 17\n",
      "ND 14\n",
      "NE 30\n",
      "NH 3\n",
      "NJ 14\n",
      "NM 12\n",
      "NV 13\n",
      "NY 38\n",
      "OH 33\n",
      "OK 36\n",
      "OR 25\n",
      "PA 20\n",
      "PR 2\n",
      "RI 1\n",
      "SC 20\n",
      "SD 25\n",
      "TN 19\n",
      "TX 57\n",
      "UT 10\n",
      "VA 4\n",
      "VT 5\n",
      "WA 17\n",
      "WI 24\n",
      "WV 9\n",
      "WY 4\n"
     ]
    }
   ],
   "source": [
    "## 10.Which state has the `least` airports?\n",
    "airport = airline.airports.distinct('state')\n",
    "for state in airport:\n",
    "    m = state\n",
    "    Num = list(airline.airports.find({'state':m}))\n",
    "    print(m,len(Num))"
   ]
  },
  {
   "cell_type": "code",
   "execution_count": 157,
   "metadata": {},
   "outputs": [
    {
     "name": "stdout",
     "output_type": "stream",
     "text": [
      "AK 78\n",
      "AL 48\n",
      "AR 28\n",
      "AZ 6\n",
      "CA 30\n",
      "CO 21\n",
      "CT 7\n",
      "DC 1\n",
      "DE 1\n",
      "FL 18\n",
      "GA 45\n",
      "IA 14\n",
      "ID 4\n",
      "IL 21\n",
      "IN 12\n",
      "KS 18\n",
      "KY 14\n",
      "LA 21\n",
      "MA 11\n",
      "MD 3\n",
      "ME 15\n",
      "MI 36\n",
      "MN 23\n",
      "MO 11\n",
      "MS 27\n",
      "MT 35\n",
      "NC 17\n",
      "ND 14\n",
      "NE 30\n",
      "NH 3\n",
      "NJ 14\n",
      "NM 12\n",
      "NV 13\n",
      "NY 38\n",
      "OH 33\n",
      "OK 36\n",
      "OR 25\n",
      "PA 20\n",
      "PR 2\n",
      "RI 1\n",
      "SC 20\n",
      "SD 25\n",
      "TN 19\n",
      "TX 57\n",
      "UT 10\n",
      "VA 4\n",
      "VT 5\n",
      "WA 17\n",
      "WI 24\n",
      "WV 9\n",
      "WY 4\n"
     ]
    }
   ],
   "source": [
    "## 11.Which state has the `second` largest number of airports?\n",
    "airport = airline.airports.distinct('state')\n",
    "for state in airport:\n",
    "    m = state\n",
    "    Num = list(airline.airports.find({'state':m}))\n",
    "    print(m,len(Num))"
   ]
  },
  {
   "cell_type": "code",
   "execution_count": 169,
   "metadata": {},
   "outputs": [
    {
     "name": "stdout",
     "output_type": "stream",
     "text": [
      "1946\n",
      "1956\n",
      "1957\n",
      "1959\n",
      "1962\n",
      "1963\n",
      "1964\n",
      "1965\n",
      "1966\n",
      "1967\n",
      "1968\n",
      "1969\n",
      "1970\n",
      "1971\n",
      "1972\n",
      "1973\n",
      "1974\n",
      "1975\n",
      "1976\n",
      "1977\n",
      "1978\n",
      "1979\n",
      "1980\n",
      "1982\n",
      "1983\n",
      "1984\n",
      "1985\n",
      "1986\n",
      "1987\n",
      "1988\n",
      "1989\n",
      "1990\n",
      "1991\n",
      "1992\n",
      "1993\n",
      "1994\n",
      "1995\n",
      "1996\n",
      "1997\n",
      "1998\n",
      "1999\n",
      "2000\n",
      "2001\n",
      "2002\n",
      "2003\n",
      "2004\n",
      "2005\n",
      "2006\n",
      "2007\n",
      "2008\n"
     ]
    }
   ],
   "source": [
    "## 12.List all the years in the `planes` collection. Exclude (0 and 'None')\n",
    "years = airline.planes.distinct('year')\n",
    "for year in years:\n",
    "    x = year\n",
    "    if x != 0 and x!= \"None\":\n",
    "        print(x)"
   ]
  },
  {
   "cell_type": "code",
   "execution_count": 176,
   "metadata": {},
   "outputs": [
    {
     "name": "stdout",
     "output_type": "stream",
     "text": [
      "0 3\n",
      "1946 1\n",
      "1956 1\n",
      "1957 1\n",
      "1959 2\n",
      "1962 1\n",
      "1963 2\n",
      "1964 1\n",
      "1965 1\n",
      "1966 1\n",
      "1967 16\n",
      "1968 24\n",
      "1969 12\n",
      "1970 2\n",
      "1971 1\n",
      "1972 1\n",
      "1973 3\n",
      "1974 2\n",
      "1975 10\n",
      "1976 8\n",
      "1977 6\n",
      "1978 8\n",
      "1979 11\n",
      "1980 8\n",
      "1982 6\n",
      "1983 18\n",
      "1984 27\n",
      "1985 84\n",
      "1986 92\n",
      "1987 131\n",
      "1988 148\n",
      "1989 110\n",
      "1990 145\n",
      "1991 156\n",
      "1992 146\n",
      "1993 100\n",
      "1994 103\n",
      "1995 101\n",
      "1996 109\n",
      "1997 134\n",
      "1998 248\n",
      "1999 320\n",
      "2000 341\n",
      "2001 389\n",
      "2002 306\n",
      "2003 266\n",
      "2004 240\n",
      "2005 193\n",
      "2006 152\n",
      "2007 107\n",
      "2008 37\n",
      "None 145\n"
     ]
    }
   ],
   "source": [
    "## 13.Which year produced the `most` planes?\n",
    "years = airline.planes.distinct('year')\n",
    "for year in years:\n",
    "    m = year\n",
    "    Num = list(airline.planes.find({'year':m}))\n",
    "    print(m,len(Num))"
   ]
  },
  {
   "cell_type": "code",
   "execution_count": 177,
   "metadata": {},
   "outputs": [
    {
     "name": "stdout",
     "output_type": "stream",
     "text": [
      "0 3\n",
      "1946 1\n",
      "1956 1\n",
      "1957 1\n",
      "1959 2\n",
      "1962 1\n",
      "1963 2\n",
      "1964 1\n",
      "1965 1\n",
      "1966 1\n",
      "1967 16\n",
      "1968 24\n",
      "1969 12\n",
      "1970 2\n",
      "1971 1\n",
      "1972 1\n",
      "1973 3\n",
      "1974 2\n",
      "1975 10\n",
      "1976 8\n",
      "1977 6\n",
      "1978 8\n",
      "1979 11\n",
      "1980 8\n",
      "1982 6\n",
      "1983 18\n",
      "1984 27\n",
      "1985 84\n",
      "1986 92\n",
      "1987 131\n",
      "1988 148\n",
      "1989 110\n",
      "1990 145\n",
      "1991 156\n",
      "1992 146\n",
      "1993 100\n",
      "1994 103\n",
      "1995 101\n",
      "1996 109\n",
      "1997 134\n",
      "1998 248\n",
      "1999 320\n",
      "2000 341\n",
      "2001 389\n",
      "2002 306\n",
      "2003 266\n",
      "2004 240\n",
      "2005 193\n",
      "2006 152\n",
      "2007 107\n",
      "2008 37\n",
      "None 145\n"
     ]
    }
   ],
   "source": [
    "## 14.Which year produced the `most` planes?\n",
    "years = airline.planes.distinct('year')\n",
    "for year in years:\n",
    "    m = year\n",
    "    Num = list(airline.planes.find({'year':m}))\n",
    "    print(m,len(Num))"
   ]
  },
  {
   "cell_type": "code",
   "execution_count": 178,
   "metadata": {},
   "outputs": [
    {
     "name": "stdout",
     "output_type": "stream",
     "text": [
      "Balloon 3\n",
      "Fixed Wing Multi-Engine 4440\n",
      "Fixed Wing Single-Engine 29\n",
      "Rotorcraft 8\n"
     ]
    }
   ],
   "source": [
    "## 15. List number of planes by aircraft types\n",
    "types = airline.planes.distinct('aircraft_type')\n",
    "for type in types:\n",
    "    m = type\n",
    "    Num = list(airline.planes.find({'aircraft_type':m}))\n",
    "    print(m,len(Num))"
   ]
  },
  {
   "cell_type": "code",
   "execution_count": 179,
   "metadata": {},
   "outputs": [
    {
     "name": "stdout",
     "output_type": "stream",
     "text": [
      "AERO COMMANDER : ['Turbo-Jet', 'Turbo-Prop']\n",
      "AERONCA : ['Reciprocating']\n",
      "AEROSPATIALE : ['Turbo-Prop', 'Turbo-Shaft']\n",
      "AEROSPATIALE/ALENIA : ['Turbo-Prop']\n",
      "AGUSTA SPA : ['Turbo-Shaft']\n",
      "AIRBUS : ['Turbo-Fan', 'Turbo-Jet']\n",
      "AIRBUS INDUSTRIE : ['Turbo-Fan', 'Turbo-Jet']\n",
      "AVIAT AIRCRAFT INC : ['Reciprocating']\n",
      "BAUMAN RANDY : ['Reciprocating']\n",
      "BEECH : ['Reciprocating', 'Turbo-Prop']\n",
      "BELL : ['Turbo-Shaft']\n",
      "BOEING : ['Turbo-Fan', 'Turbo-Jet']\n",
      "BOEING OF CANADA LTD : ['Turbo-Prop']\n",
      "BOMBARDIER INC : ['Turbo-Fan']\n",
      "CANADAIR : ['Turbo-Jet']\n",
      "CESSNA : ['4 Cycle', 'Reciprocating', 'Turbo-Fan']\n",
      "COBB INTL/DBA ROTORWAY INTL IN : ['4 Cycle']\n",
      "DEHAVILLAND : ['Reciprocating', 'Turbo-Prop']\n",
      "DIAMOND AIRCRAFT IND INC : ['4 Cycle']\n",
      "DOUGLAS : ['Reciprocating', 'Turbo-Jet']\n",
      "EMBRAER : ['Turbo-Fan', 'Turbo-Jet', 'Turbo-Prop']\n",
      "FREDERICK CHRIS K : ['Reciprocating']\n",
      "FRIEDEMANN JON : ['Reciprocating']\n",
      "GULFSTREAM AEROSPACE : ['Turbo-Fan']\n",
      "HELIO : ['Turbo-Prop']\n",
      "LEBLANC GLENN T : ['Reciprocating']\n",
      "MARZ BARRY : ['Reciprocating']\n",
      "MAULE : ['Reciprocating']\n",
      "MCDONNELL DOUGLAS : ['Turbo-Fan', 'Turbo-Jet']\n",
      "MCDONNELL DOUGLAS AIRCRAFT CO : ['Turbo-Fan', 'Turbo-Jet']\n",
      "MCDONNELL DOUGLAS CORPORATION : ['Turbo-Jet']\n",
      "MORSE GEORGE JR : ['Reciprocating']\n",
      "PAIR MIKE E : ['Reciprocating']\n",
      "PIPER : ['Reciprocating']\n",
      "RAVEN : ['None']\n",
      "SAAB-SCANIA : ['Turbo-Prop']\n",
      "SIKORSKY : ['Turbo-Shaft']\n",
      "STINNETT RON : ['Reciprocating']\n",
      "WOBIG WAYNE R : ['Reciprocating']\n"
     ]
    }
   ],
   "source": [
    "## 16. List engine types made by each manufacturer\n",
    "planes = airline.planes.distinct('manufacturer')\n",
    "for manufacturer in planes:\n",
    "    m = manufacturer\n",
    "    t = airline.planes.find({'manufacturer':m})\n",
    "    types = t.distinct('engine_type')\n",
    "    print(m,':',types)"
   ]
  },
  {
   "cell_type": "code",
   "execution_count": 181,
   "metadata": {},
   "outputs": [
    {
     "name": "stdout",
     "output_type": "stream",
     "text": [
      "Balloon : ['N401AA', 'N402AA', 'N405AA']\n",
      "Fixed Wing Multi-Engine : ['N10156', 'N102UW', 'N10323', 'N103US', 'N104UA', 'N104UW', 'N10575', 'N105UA', 'N105UW', 'N106US', 'N107UA', 'N107US', 'N108UW', 'N109UW', 'N110UW', 'N11106', 'N11107', 'N11109', 'N11113', 'N11119', 'N11121', 'N11127', 'N11137', 'N11140', 'N11150', 'N11155', 'N11164', 'N11165', 'N11176', 'N11181', 'N11184', 'N11187', 'N11189', 'N11191', 'N11192', 'N11193', 'N11194', 'N11199', 'N111US', 'N11206', 'N112US', 'N113UW', 'N114UW', 'N11526', 'N11535', 'N11536', 'N11539', 'N11544', 'N11547', 'N11548', 'N11551', 'N11565', 'N11612', 'N11641', 'N11651', 'N11656', 'N116UA', 'N117UA', 'N117UW', 'N118US', 'N119UA', 'N119US', 'N1200K', 'N1201P', 'N120UA', 'N12109', 'N12114', 'N12116', 'N12122', 'N12125', 'N12126', 'N12135', 'N12136', 'N12142', 'N12145', 'N12157', 'N12160', 'N12163', 'N12166', 'N12167', 'N12172', 'N12175', 'N12195', 'N121DE', 'N121UA', 'N121UW', 'N12201', 'N12216', 'N12218', 'N12221', 'N12225', 'N12238', 'N122UA', 'N122US', 'N12313', 'N12318', 'N12319', 'N12322', 'N12327', 'N12349', 'N123UW', 'N124DE', 'N124US', 'N12519', 'N12528', 'N12530', 'N12540', 'N12552', 'N12563', 'N12564', 'N12567', 'N12569', 'N125DL', 'N126AT', 'N126DL', 'N127DL', 'N128DL', 'N128UA', 'N12900', 'N12921', 'N12922', 'N12924', 'N12934', 'N12946', 'N12957', 'N12967', 'N12996', 'N129DL', 'N1309T', 'N130DL', 'N13110', 'N13113', 'N13118', 'N13123', 'N13124', 'N13132', 'N13133', 'N13138', 'N13161', 'N131DN', 'N13202', 'N13248', 'N132DN', 'N1332U', 'N1334U', 'N133DN', 'N134DL', 'N13538', 'N13550', 'N13553', 'N13566', 'N135DL', 'N13624', 'N136DL', 'N13716', 'N13718', 'N13720', 'N13750', 'N137DL', 'N138DL', 'N13903', 'N13908', 'N13913', 'N13914', 'N13929', 'N13935', 'N13936', 'N13949', 'N13955', 'N13956', 'N13958', 'N13964', 'N13965', 'N13968', 'N13969', 'N13970', 'N13975', 'N13978', 'N13979', 'N13988', 'N13989', 'N13990', 'N13992', 'N13994', 'N13995', 'N13997', 'N139DL', 'N1402A', 'N140LL', 'N14102', 'N14105', 'N14106', 'N14107', 'N14115', 'N14116', 'N14117', 'N14118', 'N14120', 'N14121', 'N14125', 'N14143', 'N14148', 'N14153', 'N14158', 'N14162', 'N14168', 'N14171', 'N14173', 'N14174', 'N14177', 'N14179', 'N14180', 'N14186', 'N14188', 'N14198', 'N14203', 'N14204', 'N14214', 'N14219', 'N14230', 'N14231', 'N14237', 'N14242', 'N14250', 'N14308', 'N14320', 'N14324', 'N14325', 'N14334', 'N14335', 'N14336', 'N14337', 'N14341', 'N14342', 'N14346', 'N14347', 'N14358', 'N143DA', 'N144DA', 'N14505', 'N14508', 'N14514', 'N14516', 'N14522', 'N14542', 'N14543', 'N14558', 'N14562', 'N14568', 'N14570', 'N14573', 'N14601', 'N14604', 'N14605', 'N14609', 'N14613', 'N14628', 'N14629', 'N14639', 'N14645', 'N14652', 'N14653', 'N14654', 'N14655', 'N14664', 'N14667', 'N14668', 'N14704', 'N14731', 'N14735', 'N14902', 'N14904', 'N14905', 'N14907', 'N14916', 'N14920', 'N14923', 'N14925', 'N14930', 'N14933', 'N14937', 'N14938', 'N14939', 'N14940', 'N14942', 'N14943', 'N14945', 'N14947', 'N14950', 'N14952', 'N14953', 'N14959', 'N14960', 'N14972', 'N14974', 'N14977', 'N14991', 'N14993', 'N14998', 'N149AT', 'N1501P', 'N152DL', 'N153DL', 'N154AW', 'N154DL', 'N154SF', 'N15509', 'N15527', 'N15555', 'N15572', 'N15574', 'N155AW', 'N155DL', 'N15659', 'N156AW', 'N156DL', 'N15710', 'N15712', 'N157AW', 'N158AW', 'N15910', 'N15912', 'N15926', 'N15932', 'N15941', 'N15948', 'N15973', 'N15980', 'N15983', 'N15985', 'N15986', 'N1602', 'N1603', 'N1604R', 'N1605', 'N16065', 'N1607B', 'N1608', 'N1609', 'N160AW', 'N1610D', 'N16112', 'N1611B', 'N1612T', 'N1613B', 'N16147', 'N16149', 'N16151', 'N16170', 'N16178', 'N16183', 'N161UW', 'N16217', 'N16234', 'N162UW', 'N16301', 'N16310', 'N16339', 'N163US', 'N164AW', 'N16501', 'N16502', 'N16510', 'N16511', 'N16520', 'N16525', 'N16541', 'N16546', 'N16559', 'N16561', 'N16571', 'N165US', 'N16607', 'N16618', 'N16632', 'N16642', 'N16646', 'N16647', 'N16648', 'N16649', 'N16650', 'N166AT', 'N166AW', 'N16701', 'N16703', 'N16709', 'N16713', 'N16732', 'N167AT', 'N167US', 'N168AT', 'N168AW', 'N16911', 'N16918', 'N16919', 'N16927', 'N16944', 'N16951', 'N16954', 'N16961', 'N16963', 'N16976', 'N16981', 'N16987', 'N16999', 'N169AT', 'N169DZ', 'N169UW', 'N170US', 'N17104', 'N17105', 'N17108', 'N17115', 'N17122', 'N17126', 'N17128', 'N17133', 'N17138', 'N17139', 'N17146', 'N17156', 'N17159', 'N17169', 'N17175', 'N17185', 'N17196', 'N171DN', 'N171DZ', 'N171US', 'N17229', 'N17231', 'N17233', 'N17244', 'N17245', 'N17275', 'N172DN', 'N172DZ', 'N172US', 'N17321', 'N17326', 'N17328', 'N17329', 'N17337', 'N17344', 'N17345', 'N17356', 'N17358', 'N173AT', 'N173DN', 'N173DZ', 'N173UA', 'N173US', 'N174AT', 'N174DN', 'N174DZ', 'N174UA', 'N174US', 'N17507', 'N17513', 'N17521', 'N17524', 'N17560', 'N175AT', 'N175AW', 'N175DN', 'N175DZ', 'N175UA', 'N17619', 'N17620', 'N17627', 'N17640', 'N17644', 'N17663', 'N176AT', 'N176DN', 'N176DZ', 'N176UW', 'N17719', 'N17730', 'N177DN', 'N177DZ', 'N177UA', 'N177US', 'N178DN', 'N178DZ', 'N178JB', 'N178UA', 'N178US', 'N17928', 'N17984', 'N1799U', 'N179DN', 'N179JB', 'N179UA', 'N179UW', 'N180DN', 'N180UA', 'N180US', 'N18101', 'N18102', 'N18112', 'N18114', 'N18119', 'N18120', 'N181DN', 'N181UA', 'N181UW', 'N18220', 'N18223', 'N18243', 'N182DN', 'N182UA', 'N182UW', 'N18350', 'N183DN', 'N183JB', 'N183UW', 'N184AT', 'N184DN', 'N184JB', 'N184US', 'N18556', 'N18557', 'N185DN', 'N185UW', 'N18611', 'N18622', 'N18658', 'N186DN', 'N186US', 'N187DN', 'N187JB', 'N187UA', 'N187US', 'N188DN', 'N188US', 'N18982', 'N189DN', 'N189UW', 'N190DN', 'N190JB', 'N190UW', 'N19117', 'N19130', 'N19136', 'N19141', 'N191DN', 'N191UW', 'N192DN', 'N192JB', 'N192UW', 'N19357', 'N193DN', 'N193JB', 'N194DN', 'N19503', 'N19554', 'N195DN', 'N195UA', 'N19621', 'N19623', 'N19638', 'N196DN', 'N196UA', 'N197DN', 'N197JB', 'N197UA', 'N198DN', 'N198JB', 'N19966', 'N199DN', 'N199UA', 'N200UU', 'N200WN', 'N201FR', 'N201LV', 'N201UU', 'N202AA', 'N202FR', 'N202UA', 'N202UW', 'N202WN', 'N203JB', 'N203UA', 'N203UW', 'N203WN', 'N204UA', 'N204UW', 'N204WN', 'N205UW', 'N205WN', 'N206JB', 'N206UA', 'N206UW', 'N206WN', 'N207AA', 'N207WN', 'N208AA', 'N208WN', 'N209UA', 'N209WN', 'N210UA', 'N210WN', 'N21108', 'N21129', 'N21130', 'N21144', 'N21154', 'N21197', 'N211NE', 'N211UA', 'N211WN', 'N212UA', 'N212WN', 'N213UA', 'N213WN', 'N214AA', 'N214UA', 'N214WN', 'N21537', 'N215SW', 'N215UA', 'N215WN', 'N216JB', 'N216SW', 'N216UA', 'N216WR', 'N21723', 'N217JC', 'N217SW', 'N217UA', 'N218AA', 'N218AE', 'N218SW', 'N218UA', 'N218WN', 'N219AA', 'N219AE', 'N219UA', 'N219WN', 'N220SW', 'N220UA', 'N220WN', 'N221SW', 'N221UA', 'N221WN', 'N222UA', 'N222WN', 'N223AA', 'N223SW', 'N223UA', 'N223WN', 'N224SW', 'N224UA', 'N224WN', 'N225UA', 'N225WN', 'N226SW', 'N226UA', 'N226WN', 'N227AA', 'N227SW', 'N227UA', 'N227WN', 'N228JB', 'N228UA', 'N228WN', 'N22909', 'N22971', 'N229JB', 'N229SW', 'N229UA', 'N229WN', 'N230WN', 'N23139', 'N231JB', 'N231WN', 'N232AA', 'N232AE', 'N232SW', 'N232WN', 'N233AA', 'N233LV', 'N233SW', 'N234AA', 'N234SW', 'N234WN', 'N235SW', 'N235WN', 'N23661', 'N236AA', 'N236AE', 'N236JB', 'N236SW', 'N236WN', 'N23707', 'N23708', 'N23721', 'N237AA', 'N237SW', 'N237WN', 'N238AE', 'N238JB', 'N238WN', 'N239JB', 'N239WN', 'N240AT', 'N240DS', 'N240WN', 'N24103', 'N24128', 'N241AA', 'N241WN', 'N24202', 'N24211', 'N24212', 'N24224', 'N242AA', 'N242WN', 'N243WN', 'N244AA', 'N244WN', 'N24517', 'N245AA', 'N245AY', 'N245WN', 'N24633', 'N246AA', 'N246AY', 'N246LV', 'N24702', 'N24706', 'N24715', 'N24729', 'N24736', 'N247JB', 'N247WN', 'N248AA', 'N248AY', 'N248WN', 'N249AA', 'N249AU', 'N249JB', 'N249WN', 'N250AE', 'N250AY', 'N250WN', 'N250YV', 'N25134', 'N251AA', 'N251AY', 'N251WN', 'N251YV', 'N252AU', 'N252WN', 'N253AE', 'N253AY', 'N253WN', 'N254WN', 'N25504', 'N255AA', 'N255AY', 'N255WN', 'N256AY', 'N256WN', 'N25705', 'N257WN', 'N258AA', 'N258JB', 'N258WN', 'N259AA', 'N259WN', 'N260WN', 'N26123', 'N26141', 'N261AT', 'N261WN', 'N26208', 'N26210', 'N26215', 'N26226', 'N262AA', 'N262WN', 'N263AE', 'N263WN', 'N264LV', 'N26545', 'N26549', 'N265JB', 'N265WN', 'N266AA', 'N266AE', 'N266JB', 'N266WN', 'N267AT', 'N267JB', 'N267WN', 'N268AT', 'N268WN', 'N269WN', 'N27015', 'N270AY', 'N270WN', 'N270YV', 'N27152', 'N27172', 'N27173', 'N27185', 'N27190', 'N27191', 'N271AA', 'N271AY', 'N271WN', 'N271YV', 'N27200', 'N27205', 'N27213', 'N27239', 'N272AT', 'N272AY', 'N272WN', 'N27314', 'N27318', 'N273AE', 'N273AT', 'N273AY', 'N273JB', 'N273WN', 'N274AA', 'N274AY', 'N274JB', 'N274WN', 'N27506', 'N27512', 'N27523', 'N275AY', 'N275WN', 'N27610', 'N276AT', 'N276AY', 'N276WN', 'N27722', 'N27724', 'N27733', 'N27734', 'N277AY', 'N277WN', 'N278AA', 'N278AT', 'N278AY', 'N278WN', 'N27962', 'N279AA', 'N279AT', 'N279JB', 'N279WN', 'N280WN', 'N281AT', 'N281JB', 'N281WN', 'N282WN', 'N283AA', 'N283AT', 'N283JB', 'N283WN', 'N284AT', 'N284JB', 'N284WN', 'N284YV', 'N28518', 'N28529', 'N285AT', 'N285WN', 'N286AE', 'N286AT', 'N286WN', 'N287AA', 'N287AT', 'N287WN', 'N288AT', 'N288JB', 'N288SW', 'N288WN', 'N289AA', 'N289AT', 'N289CT', 'N289JB', 'N289YV', 'N290AA', 'N290AT', 'N290JB', 'N290SW', 'N290WN', 'N29124', 'N29129', 'N291AA', 'N291AT', 'N291SW', 'N291WN', 'N292AA', 'N292AT', 'N292SW', 'N292UX', 'N292WN', 'N293', 'N293AA', 'N293SW', 'N294SW', 'N294WN', 'N29515', 'N295AT', 'N295SW', 'N295UX', 'N295WN', 'N296AT', 'N296SW', 'N296WN', 'N29717', 'N297AA', 'N297SW', 'N297WN', 'N298AA', 'N298AE', 'N298SW', 'N298WN', 'N29906', 'N29917', 'N299AT', 'N299SW', 'N299WN', 'N300AT', 'N300SW', 'N301AE', 'N301NB', 'N301SW', 'N301UA', 'N301US', 'N301YV', 'N302AS', 'N302AW', 'N302NB', 'N302SW', 'N302UA', 'N303AS', 'N303AW', 'N303SW', 'N303UA', 'N303US', 'N30401', 'N304AE', 'N304SW', 'N304UA', 'N304US', 'N305AS', 'N305AW', 'N305SW', 'N305UA', 'N305US', 'N306AS', 'N306AW', 'N306SW', 'N306UA', 'N307AE', 'N307AS', 'N307AT', 'N307AW', 'N307SW', 'N307UA', 'N308AT', 'N308AW', 'N308SA', 'N308SW', 'N308UA', 'N309AS', 'N309AT', 'N309AW', 'N309SW', 'N309UA', 'N309US', 'N310NW', 'N310SW', 'N310UA', 'N31131', 'N311AT', 'N311AW', 'N311SW', 'N311UA', 'N311US', 'N312AT', 'N312SW', 'N312UA', 'N312US', 'N313AE', 'N313AT', 'N313AW', 'N313SW', 'N313UA', 'N313US', 'N31412', 'N314AW', 'N314NB', 'N314SW', 'N314UA', 'N314US', 'N315AS', 'N315AT', 'N315AW', 'N315NB', 'N315SW', 'N315UA', 'N315US', 'N316AT', 'N316AW', 'N316NB', 'N316SW', 'N316US', 'N317AE', 'N317AS', 'N317AT', 'N317CA', 'N317NB', 'N317US', 'N317WN', 'N318AS', 'N318AT', 'N318NB', 'N318SW', 'N318UA', 'N318US', 'N319AA', 'N319AS', 'N319NB', 'N319US', 'N320AA', 'N320AE', 'N320AS', 'N320NB', 'N320US', 'N321AA', 'N321NB', 'N321US', 'N322AA', 'N322AW', 'N322NB', 'N322SW', 'N322US', 'N323AA', 'N323AE', 'N323AS', 'N323NB', 'N323SW', 'N323US', 'N32404', 'N324AA', 'N324AE', 'N324NB', 'N324SW', 'N324US', 'N325AA', 'N325NB', 'N325SW', 'N325UA', 'N325US', 'N32626', 'N326AT', 'N326NB', 'N326SW', 'N326UA', 'N326US', 'N327AA', 'N327NB', 'N327NW', 'N327SW', 'N327UA', 'N328AA', 'N328AT', 'N328NB', 'N328NW', 'N328SW', 'N328UA', 'N329AA', 'N329AE', 'N329AT', 'N329NB', 'N329NW', 'N329SW', 'N329UA', 'N330AT', 'N330NB', 'N330NW', 'N330SW', 'N330UA', 'N33103', 'N33132', 'N33182', 'N331AT', 'N331CA', 'N331NB', 'N331NW', 'N331SW', 'N331UA', 'N33203', 'N33209', 'N3324L', 'N33262', 'N33264', 'N33266', 'N33284', 'N33286', 'N33289', 'N33292', 'N33294', 'N332AA', 'N332AW', 'N332NB', 'N332NW', 'N332SW', 'N332UA', 'N333NB', 'N333NW', 'N333SW', 'N333UA', 'N334AW', 'N334NB', 'N334NW', 'N334SW', 'N334UA', 'N335AA', 'N335NB', 'N335NW', 'N335SW', 'N335UA', 'N33608', 'N336AA', 'N336AT', 'N336NB', 'N336NW', 'N336SW', 'N336UA', 'N33714', 'N337AT', 'N337NB', 'N337NW', 'N337SW', 'N337UA', 'N338AA', 'N338AT', 'N338NB', 'N338NW', 'N338SW', 'N338UA', 'N339AA', 'N339NB', 'N339NW', 'N339SW', 'N339UA', 'N340CA', 'N340LV', 'N340NB', 'N340NW', 'N340RC', 'N340UA', 'N34110', 'N34111', 'N34131', 'N34137', 'N341NB', 'N341NW', 'N341SW', 'N341UA', 'N34222', 'N34282', 'N342NB', 'N342NW', 'N342SW', 'N342UA', 'N343NB', 'N343NW', 'N343SW', 'N344AA', 'N344AT', 'N344NB', 'N344NW', 'N344SW', 'N345AA', 'N345NB', 'N345NW', 'N345SA', 'N346NB', 'N346SW', 'N346UA', 'N347NB', 'N347NW', 'N347SW', 'N347UA', 'N348NB', 'N348NW', 'N348SW', 'N348UA', 'N349NB', 'N349NW', 'N349SW', 'N349UA', 'N350AA', 'N350NA', 'N350SW', 'N350UA', 'N351AA', 'N351NB', 'N351NW', 'N351SW', 'N351UA', 'N35204', 'N35260', 'N35271', 'N352AA', 'N352NB', 'N352NW', 'N352SW', 'N353AA', 'N353NB', 'N353NW', 'N353SW', 'N35407', 'N354AA', 'N354CA', 'N354NB', 'N354NW', 'N354SW', 'N355AA', 'N355CA', 'N355NB', 'N355NW', 'N355SW', 'N356NW', 'N356SW', 'N357AA', 'N357NB', 'N357NW', 'N357SW', 'N358AA', 'N358NB', 'N358NW', 'N358SW', 'N359AA', 'N359NB', 'N359NW', 'N359SW', 'N360AA', 'N360NB', 'N360NW', 'N360SW', 'N361AA', 'N361NB', 'N361NW', 'N361SW', 'N36207', 'N36247', 'N36272', 'N36280', 'N362AA', 'N362NB', 'N362NW', 'N362SW', 'N363AA', 'N363NB', 'N363NW', 'N363SW', 'N364NB', 'N364NW', 'N364SW', 'N364UA', 'N365NB', 'N365NW', 'N365SW', 'N365UA', 'N366AA', 'N366NB', 'N366NW', 'N366SW', 'N366UA', 'N367CA', 'N367NW', 'N367SW', 'N367UA', 'N368AA', 'N368CA', 'N368NB', 'N368NW', 'N368SW', 'N36915', 'N369AA', 'N369CA', 'N369NB', 'N369NW', 'N369SW', 'N369UA', 'N37018', 'N370AA', 'N370NB', 'N370NW', 'N370SW', 'N370UA', 'N37178', 'N371AA', 'N371CA', 'N371DA', 'N371NB', 'N371NW', 'N371SW', 'N371UA', 'N37208', 'N37252', 'N37253', 'N37255', 'N37263', 'N37267', 'N37273', 'N37274', 'N37277', 'N37281', 'N37287', 'N37290', 'N37293', 'N37298', 'N372AA', 'N372DA', 'N372NW', 'N372SW', 'N372UA', 'N3730B', 'N3731T', 'N3732J', 'N3733Z', 'N37342', 'N3734B', 'N3735D', 'N3736C', 'N3737C', 'N3738B', 'N373AA', 'N373DA', 'N373NW', 'N373SW', 'N373UA', 'N37408', 'N37409', 'N3740C', 'N37413', 'N37419', 'N3741S', 'N37420', 'N3742C', 'N3743H', 'N3745B', 'N3746H', 'N3747D', 'N3748Y', 'N3749D', 'N374AA', 'N374CA', 'N374DA', 'N374NW', 'N374SW', 'N374UA', 'N3750D', 'N3751B', 'N3752', 'N3753', 'N3754A', 'N3755D', 'N3756', 'N3757D', 'N3758Y', 'N3759', 'N375AA', 'N375DA', 'N375NC', 'N375SW', 'N375UA', 'N3760C', 'N37615', 'N3761R', 'N3762Y', 'N3763D', 'N3764D', 'N3765', 'N3766', 'N3767', 'N3768', 'N3769L', 'N376CA', 'N376DA', 'N376NW', 'N376SW', 'N376UA', 'N37700', 'N3771K', 'N377DA', 'N377NW', 'N377UA', 'N378CA', 'N378DA', 'N378NW', 'N378SW', 'N378UA', 'N379AA', 'N379CA', 'N379DA', 'N379SW', 'N379UA', 'N380DA', 'N380SW', 'N381AA', 'N381UA', 'N38257', 'N38268', 'N382AA', 'N382DA', 'N382SW', 'N382UA', 'N383AA', 'N383DN', 'N383SW', 'N383UA', 'N38403', 'N38417', 'N384AA', 'N384AE', 'N384DA', 'N384SW', 'N385DN', 'N385SW', 'N385UA', 'N386AA', 'N386DA', 'N386SW', 'N386UA', 'N38727', 'N387DA', 'N387SW', 'N388AA', 'N388DA', 'N388SW', 'N389AA', 'N389DA', 'N389SW', 'N390AA', 'N390CA', 'N390DA', 'N390SW', 'N391AA', 'N391CA', 'N391DA', 'N391SW', 'N39297', 'N392DA', 'N392SW', 'N39343', 'N393DA', 'N393SW', 'N39415', 'N39416', 'N39418', 'N394AE', 'N394DA', 'N394DL', 'N394SW', 'N395DN', 'N395SW', 'N396DA', 'N396SW', 'N39726', 'N39728', 'N397DA', 'N397SW', 'N398CA', 'N398DA', 'N398SW', 'N398UA', 'N399DA', 'N399UA', 'N399WN', 'N400AA', 'N400WN', 'N401EA', 'N401UA', 'N401WN', 'N402UA', 'N402WN', 'N403CA', 'N403SW', 'N403UA', 'N403WN', 'N404UA', 'N404US', 'N404WN', 'N405SW', 'N405UA', 'N405US', 'N405WN', 'N406SW', 'N406UA', 'N406US', 'N406WN', 'N407AA', 'N407SW', 'N407UA', 'N407WN', 'N408AA', 'N408CA', 'N408SW', 'N408UA', 'N408WN', 'N409AA', 'N409CA', 'N409SW', 'N409UA', 'N409US', 'N409WN', 'N410AA', 'N410SW', 'N410UA', 'N410WN', 'N41104', 'N41135', 'N41140', 'N411AA', 'N411SW', 'N411UA', 'N411WN', 'N412AA', 'N412SW', 'N412UA', 'N412WN', 'N413AA', 'N413SW', 'N413UA', 'N413WN', 'N414UA', 'N414WN', 'N415AA', 'N415UA', 'N415WN', 'N416AA', 'N416SW', 'N416UA', 'N416WN', 'N417AA', 'N417SW', 'N417UA', 'N417US', 'N417WN', 'N418AA', 'N418SW', 'N418UA', 'N418US', 'N418WN', 'N419AA', 'N419UA', 'N419US', 'N419WN', 'N420AA', 'N420CA', 'N420UA', 'N420US', 'N420WN', 'N421AA', 'N421LV', 'N421UA', 'N421US', 'N422AA', 'N422UA', 'N422US', 'N422WN', 'N423AA', 'N423SW', 'N423UA', 'N423US', 'N423WN', 'N424AA', 'N424UA', 'N424US', 'N424WN', 'N425LV', 'N425UA', 'N425US', 'N426AA', 'N426SW', 'N426UA', 'N426US', 'N426WN', 'N427AA', 'N427CA', 'N427SW', 'N427UA', 'N427US', 'N427WN', 'N428AA', 'N428UA', 'N428WN', 'N429AA', 'N429SW', 'N429UA', 'N429WN', 'N430AA', 'N430CA', 'N430SW', 'N430UA', 'N430US', 'N430WN', 'N431AA', 'N431SW', 'N431UA', 'N431WN', 'N432AA', 'N432SW', 'N432UA', 'N432US', 'N432WN', 'N433AA', 'N433LV', 'N433SW', 'N433UA', 'N433US', 'N434AA', 'N434UA', 'N434US', 'N434WN', 'N434YV', 'N435AA', 'N435CA', 'N435SW', 'N435UA', 'N435US', 'N435WN', 'N436AA', 'N436CA', 'N436UA', 'N436WN', 'N436YV', 'N437AA', 'N437SW', 'N437UA', 'N437WN', 'N437YV', 'N438AA', 'N438SW', 'N438UA', 'N438US', 'N438WN', 'N439AA', 'N439SW', 'N439UA', 'N439US', 'N439WN', 'N440AA', 'N440LV', 'N440SW', 'N440UA', 'N440US', 'N441AA', 'N441SW', 'N441UA', 'N441US', 'N441WN', 'N442AA', 'N442CA', 'N442SW', 'N442UA', 'N442US', 'N442WN', 'N443AA', 'N443CA', 'N443SW', 'N443UA', 'N443US', 'N443WN', 'N444UA', 'N444US', 'N444WN', 'N444YV', 'N445AA', 'N445SW', 'N445UA', 'N445US', 'N445WN', 'N445YV', 'N446AA', 'N446CA', 'N446SW', 'N446UA', 'N446WN', 'N446YV', 'N447AA', 'N447CA', 'N447SW', 'N447UA', 'N447WN', 'N447YV', 'N448AA', 'N448SW', 'N448UA', 'N448WN', 'N448YV', 'N449AA', 'N449SW', 'N449UA', 'N449US', 'N449WN', 'N449YV', 'N450AA', 'N450UW', 'N450WN', 'N451AA', 'N451CA', 'N451UA', 'N451UW', 'N451WN', 'N452AA', 'N452SW', 'N452UA', 'N452UW', 'N452WN', 'N453AA', 'N453SW', 'N453UA', 'N453UW', 'N453WN', 'N454AA', 'N454SW', 'N454UA', 'N454UW', 'N454WN', 'N454YV', 'N455AA', 'N455CA', 'N455SW', 'N455UA', 'N455UW', 'N455WN', 'N455YV', 'N456AA', 'N456UA', 'N456UW', 'N456WN', 'N456YV', 'N457AA', 'N457SW', 'N457UA', 'N457UW', 'N457WN', 'N458AA', 'N458UA', 'N458UW', 'N458WN', 'N459AA', 'N459SW', 'N459UA', 'N459UW', 'N459WN', 'N460AA', 'N460SW', 'N460UA', 'N460UW', 'N460WN', 'N461AA', 'N461SW', 'N461UA', 'N461WN', 'N462AA', 'N462UA', 'N462WN', 'N463AA', 'N463SW', 'N463UA', 'N463WN', 'N464AA', 'N464SW', 'N464UA', 'N464WN', 'N465SW', 'N465UA', 'N465WN', 'N46625', 'N466AA', 'N466SW', 'N466UA', 'N466WN', 'N467AA', 'N467UA', 'N467WN', 'N468AA', 'N468CA', 'N468UA', 'N468WN', 'N469AA', 'N469UA', 'N469WN', 'N470AA', 'N470UA', 'N470WN', 'N471AA', 'N471CA', 'N471UA', 'N47202', 'N472AA', 'N472CA', 'N472UA', 'N472WN', 'N47332', 'N473AA', 'N473UA', 'N473WN', 'N47414', 'N474UA', 'N474WN', 'N475AA', 'N475HA', 'N475UA', 'N475WN', 'N476AA', 'N476HA', 'N476UA', 'N476WN', 'N477AA', 'N477CA', 'N477HA', 'N477UA', 'N477WN', 'N478AA', 'N478HA', 'N478UA', 'N478WN', 'N479AA', 'N479CA', 'N479HA', 'N479UA', 'N479WN', 'N480AA', 'N480HA', 'N480UA', 'N480WN', 'N48127', 'N481AA', 'N481HA', 'N481UA', 'N481WN', 'N482AA', 'N482UA', 'N482WN', 'N483UA', 'N483WN', 'N484AA', 'N484HA', 'N484UA', 'N484WN', 'N485AA', 'N485HA', 'N485UA', 'N485WN', 'N486AA', 'N486HA', 'N486UA', 'N486WN', 'N487AA', 'N487CA', 'N487HA', 'N487UA', 'N487WN', 'N488AA', 'N488UA', 'N488WN', 'N48901', 'N489AA', 'N489UA', 'N489WN', 'N490AA', 'N490UA', 'N490WN', 'N491AA', 'N491UA', 'N491WN', 'N492AA', 'N492SW', 'N492UA', 'N492WN', 'N493AA', 'N493UA', 'N493WN', 'N494AA', 'N494CA', 'N494UA', 'N494WN', 'N495AA', 'N495CA', 'N495UA', 'N495WN', 'N496AA', 'N496CA', 'N496UA', 'N496WN', 'N497AA', 'N497UA', 'N497WN', 'N498AA', 'N498CA', 'N498UA', 'N498WN', 'N499AA', 'N499WN', 'N500AE', 'N501AA', 'N501BG', 'N501MJ', 'N501SW', 'N501UA', 'N501US', 'N502AE', 'N502MJ', 'N502SW', 'N502UA', 'N502US', 'N503AE', 'N503JB', 'N503MJ', 'N503SW', 'N503UA', 'N503US', 'N504AE', 'N504AU', 'N504JB', 'N504MJ', 'N504SW', 'N504UA', 'N504US', 'N505AA', 'N505AE', 'N505AU', 'N505JB', 'N505MJ', 'N505SW', 'N505UA', 'N505US', 'N506AE', 'N506AU', 'N506CA', 'N506JB', 'N506MJ', 'N506SW', 'N506UA', 'N506US', 'N507AE', 'N507CA', 'N507MJ', 'N507SW', 'N507UA', 'N507US', 'N508AE', 'N508MJ', 'N508SW', 'N508UA', 'N508US', 'N509AE', 'N509JB', 'N509MJ', 'N509SW', 'N509UA', 'N509US', 'N510AE', 'N510CA', 'N510JB', 'N510MJ', 'N510SW', 'N510UA', 'N511AE', 'N511AU', 'N511MJ', 'N511SW', 'N511UA', 'N511US', 'N512AE', 'N512AU', 'N512MJ', 'N512SW', 'N512UA', 'N512US', 'N513AA', 'N513AE', 'N513MJ', 'N513SW', 'N513UA', 'N513US', 'N514AE', 'N514CA', 'N514MJ', 'N514SW', 'N514UA', 'N514US', 'N515AE', 'N515MJ', 'N515SW', 'N515UA', 'N515US', 'N516AE', 'N516AU', 'N516JB', 'N516LR', 'N516UA', 'N516US', 'N517AE', 'N517AU', 'N517JB', 'N517UA', 'N517US', 'N518AE', 'N518AU', 'N518CA', 'N518LR', 'N518UA', 'N518US', 'N519AA', 'N519AE', 'N519JB', 'N519LR', 'N519SW', 'N519UA', 'N519US', 'N520DC', 'N520JB', 'N520SW', 'N520UA', 'N520US', 'N521AE', 'N521JB', 'N521LR', 'N521SW', 'N521UA', 'N521US', 'N522AE', 'N522LR', 'N522SW', 'N522UA', 'N522US', 'N523AA', 'N523AE', 'N523CA', 'N523JB', 'N523SW', 'N523UA', 'N523US', 'N524AE', 'N524JB', 'N524SW', 'N524UA', 'N525AA', 'N525SW', 'N525UA', 'N525US', 'N52616', 'N526AU', 'N526CA', 'N526SW', 'N526UA', 'N526US', 'N527AU', 'N527SW', 'N527UA', 'N527US', 'N528CA', 'N528JB', 'N528SW', 'N528UA', 'N528US', 'N529AU', 'N529JB', 'N529UA', 'N529US', 'N530AU', 'N530UA', 'N530US', 'N531AU', 'N531UA', 'N531US', 'N532AU', 'N532UA', 'N532US', 'N533AU', 'N533UA', 'N533US', 'N534JB', 'N534UA', 'N534US', 'N535JB', 'N535UA', 'N535US', 'N536JB', 'N536UA', 'N536US', 'N537UA', 'N537US', 'N538CA', 'N538UA', 'N538US', 'N539UA', 'N540UA', 'N541AA', 'N541UA', 'N54241', 'N542UA', 'N544UA', 'N544US', 'N545UA', 'N545US', 'N546AS', 'N546JB', 'N546UA', 'N546US', 'N54711', 'N547JB', 'N547UA', 'N547US', 'N548AS', 'N548CA', 'N548JB', 'N548UA', 'N548US', 'N549AS', 'N549CA', 'N549UA', 'N549US', 'N550JB', 'N550UA', 'N550WN', 'N551AS', 'N551NW', 'N551UA', 'N551WN', 'N552AA', 'N552AS', 'N552JB', 'N552NW', 'N552UA', 'N553AA', 'N553AS', 'N553NW', 'N553UA', 'N554AA', 'N554CA', 'N554JB', 'N554NW', 'N554UA', 'N555NW', 'N555UA', 'N556AA', 'N556AS', 'N556JB', 'N556NW', 'N556UA', 'N557AS', 'N557NW', 'N557UA', 'N558AA', 'N558AS', 'N558JB', 'N558UA', 'N559AA', 'N559AS', 'N559JB', 'N559UA', 'N560AS', 'N560SW', 'N560UA', 'N561AA', 'N561JB', 'N561SW', 'N561UA', 'N562AA', 'N562AS', 'N562JB', 'N562SW', 'N562UA', 'N563AA', 'N563AS', 'N563JB', 'N563SW', 'N563UA', 'N564AA', 'N564AS', 'N564JB', 'N564SW', 'N564UA', 'N565AA', 'N565AS', 'N565JB', 'N565SW', 'N565UA', 'N566AA', 'N566AS', 'N566JB', 'N566SW', 'N566UA', 'N567SW', 'N567UA', 'N56859', 'N568AA', 'N568AS', 'N568JB', 'N568SW', 'N568UA', 'N569AA', 'N569AS', 'N569JB', 'N569SW', 'N569UA', 'N570AA', 'N570AS', 'N570JB', 'N570ML', 'N570UA', 'N57111', 'N571AA', 'N571JB', 'N571ML', 'N571UA', 'N572AA', 'N572UA', 'N573AA', 'N573UA', 'N574AA', 'N574UA', 'N574US', 'N575UA', 'N576AA', 'N576SW', 'N576UA', 'N577AA', 'N577AS', 'N577UA', 'N57852', 'N57855', 'N57857', 'N57863', 'N57864', 'N57868', 'N57869', 'N578AA', 'N578SW', 'N578UA', 'N579AA', 'N579AS', 'N579JB', 'N579SW', 'N579UA', 'N580AA', 'N580HA', 'N580JB', 'N580SW', 'N580UA', 'N58101', 'N581AA', 'N581AS', 'N581HA', 'N581JB', 'N581NW', 'N581SW', 'N581UA', 'N582AA', 'N582CA', 'N582HA', 'N582JB', 'N582NW', 'N582SW', 'N582UA', 'N583AA', 'N583AS', 'N583HA', 'N583JB', 'N583NW', 'N583SW', 'N583UA', 'N584AA', 'N584AS', 'N584HA', 'N584NW', 'N584SW', 'N584UA', 'N585AA', 'N585AS', 'N585HA', 'N585JB', 'N585NW', 'N585SW', 'N585UA', 'N58606', 'N586AA', 'N586AS', 'N586HA', 'N586JB', 'N586NW', 'N586SW', 'N586UA', 'N587AA', 'N587AS', 'N587HA', 'N587JB', 'N587NW', 'N587SW', 'N587UA', 'N588AA', 'N588AS', 'N588HA', 'N588JB', 'N588NW', 'N588SW', 'N588UA', 'N588US', 'N589AA', 'N589AS', 'N589HA', 'N589JB', 'N589NW', 'N589SW', 'N589UA', 'N589US', 'N59053', 'N590AA', 'N590AS', 'N590HA', 'N590JB', 'N590NW', 'N590SW', 'N590UA', 'N590US', 'N591AA', 'N591HA', 'N591JB', 'N591NW', 'N591SW', 'N591US', 'N592AA', 'N592AS', 'N592HA', 'N592JB', 'N592NW', 'N592UA', 'N59302', 'N59338', 'N593AA', 'N593AS', 'N593HA', 'N593JB', 'N593NW', 'N593UA', 'N594AA', 'N594AS', 'N594HA', 'N594JB', 'N594NW', 'N594SW', 'N594UA', 'N595AA', 'N595JB', 'N595NW', 'N595SW', 'N595UA', 'N59630', 'N596AA', 'N596AS', 'N596HA', 'N596NW', 'N596UA', 'N597AA', 'N597HA', 'N597JB', 'N597SW', 'N597UA', 'N598AA', 'N598HA', 'N598JB', 'N598UA', 'N599AA', 'N599JB', 'N600TR', 'N600WN', 'N601AW', 'N601DL', 'N601WN', 'N602AW', 'N602DL', 'N602NW', 'N602SW', 'N603AT', 'N603AW', 'N603DL', 'N603JB', 'N603SK', 'N603SW', 'N604AT', 'N604AW', 'N604DL', 'N604SK', 'N604SW', 'N605AW', 'N605DL', 'N605JB', 'N605SW', 'N606DL', 'N606JB', 'N606NW', 'N606SK', 'N606SW', 'N607AS', 'N607DL', 'N607JB', 'N607SK', 'N607SW', 'N608DA', 'N608JB', 'N608NW', 'N608SK', 'N608SW', 'N609AS', 'N609DL', 'N609SK', 'N609SW', 'N610AA', 'N610AE', 'N610DL', 'N610NW', 'N610WN', 'N611AE', 'N611AS', 'N611DL', 'N611SK', 'N611SW', 'N612AA', 'N612AE', 'N612AS', 'N612DL', 'N612JB', 'N612SW', 'N61304', 'N613AA', 'N613AE', 'N613AS', 'N613DL', 'N613JB', 'N613NW', 'N613SK', 'N613SW', 'N614AA', 'N614AE', 'N614AS', 'N614DL', 'N614SK', 'N614SW', 'N615AA', 'N615AE', 'N615AS', 'N615DL', 'N615JB', 'N615SW', 'N616AA', 'N616AE', 'N616DL', 'N616SW', 'N617AE', 'N617AS', 'N617DL', 'N617SW', 'N618AA', 'N618AE', 'N618AS', 'N618DL', 'N618JB', 'N618WN', 'N619AA', 'N619AE', 'N619AS', 'N619AW', 'N619DL', 'N619SW', 'N620AA', 'N620AE', 'N620AW', 'N620SW', 'N621AE', 'N621AW', 'N621DL', 'N621JB', 'N621SW', 'N622AA', 'N622AE', 'N622AS', 'N622AW', 'N622DL', 'N622SW', 'N623AA', 'N623AE', 'N623AS', 'N623DL', 'N623JB', 'N623SW', 'N624AA', 'N624AE', 'N624AS', 'N624AW', 'N624DL', 'N624JB', 'N624SW', 'N625AA', 'N625AE', 'N625AS', 'N625AW', 'N625CA', 'N625DL', 'N625JB', 'N625SW', 'N62631', 'N626AA', 'N626AE', 'N626AS', 'N626AW', 'N626DL', 'N626SW', 'N627AA', 'N627AE', 'N627AS', 'N627AW', 'N627DL', 'N627JB', 'N627SW', 'N628AA', 'N628AE', 'N628AW', 'N628DL', 'N628SW', 'N629AA', 'N629AE', 'N629AW', 'N629BR', 'N629DL', 'N629JB', 'N629SW', 'N630AA', 'N630AE', 'N630AS', 'N630DL', 'N630JB', 'N630WN', 'N631AA', 'N631AE', 'N631AS', 'N631AW', 'N631DL', 'N631SW', 'N632AA', 'N632AE', 'N632AS', 'N632AW', 'N632DL', 'N632JB', 'N632SW', 'N63305', 'N633AA', 'N633AE', 'N633AS', 'N633AW', 'N633DL', 'N633JB', 'N633SW', 'N634AA', 'N634AE', 'N634AS', 'N634AW', 'N634DL', 'N634JB', 'N634SW', 'N635AA', 'N635AE', 'N635AS', 'N635DL', 'N635JB', 'N635SW', 'N636AE', 'N636AS', 'N636AW', 'N636DL', 'N636JB', 'N636WN', 'N637AE', 'N637AS', 'N637AW', 'N637DL', 'N637JB', 'N637SW', 'N638AA', 'N638AE', 'N638DL', 'N638JB', 'N638SW', 'N639AA', 'N639AE', 'N639DL', 'N639JB', 'N639SW', 'N640AE', 'N640AS', 'N640AW', 'N640DL', 'N640JB', 'N640SW', 'N641AA', 'N641AE', 'N641AS', 'N641CA', 'N641DL', 'N641JB', 'N641SW', 'N641UA', 'N642AA', 'N642AE', 'N642AS', 'N642AW', 'N642CA', 'N642DL', 'N642UA', 'N642WN', 'N643AA', 'N643AE', 'N643AS', 'N643DL', 'N643JB', 'N643SW', 'N643UA', 'N644AE', 'N644AS', 'N644AW', 'N644DL', 'N644JB', 'N644SW', 'N644UA', 'N645AE', 'N645DL', 'N645JB', 'N645SW', 'N646AE', 'N646BR', 'N646DL', 'N646JB', 'N646SW', 'N646UA', 'N647AE', 'N647AS', 'N647AW', 'N647DL', 'N647SW', 'N647UA', 'N648AE', 'N648AW', 'N648DL', 'N648JB', 'N648SW', 'N648UA', 'N649AS', 'N649AW', 'N649BR', 'N649DL', 'N649JB', 'N649PP', 'N649SW', 'N649UA', 'N650AE', 'N650AW', 'N650DL', 'N650ML', 'N650SW', 'N651AE', 'N651AW', 'N651BR', 'N651DL', 'N651JB', 'N651ML', 'N651SW', 'N651UA', 'N652AW', 'N652DL', 'N652JB', 'N652RS', 'N652SW', 'N652UA', 'N653AE', 'N653AW', 'N653CA', 'N653DL', 'N653JB', 'N653SW', 'N653UA', 'N654AE', 'N654AW', 'N654BR', 'N654DL', 'N654SW', 'N654UA', 'N655AE', 'N655AW', 'N655BR', 'N655CA', 'N655DL', 'N655JB', 'N655UA', 'N655WN', 'N656AE', 'N656AW', 'N656CA', 'N656DL', 'N656JB', 'N656SW', 'N656UA', 'N657AE', 'N657AW', 'N657DL', 'N657JB', 'N657SW', 'N657UA', 'N658AE', 'N658AW', 'N658CA', 'N658DL', 'N658JB', 'N658SW', 'N658UA', 'N659AE', 'N659AW', 'N659BR', 'N659CA', 'N659DL', 'N659JB', 'N659SW', 'N659UA', 'N66051', 'N66056', 'N66057', 'N660AW', 'N660CL', 'N660DL', 'N660SW', 'N660UA', 'N661AW', 'N661DN', 'N661JA', 'N661JB', 'N661SW', 'N661UA', 'N662AW', 'N662DN', 'N662EH', 'N662JB', 'N662SW', 'N662UA', 'N663AR', 'N663AW', 'N663DN', 'N663JB', 'N663SW', 'N663UA', 'N664AW', 'N664DN', 'N664MS', 'N664UA', 'N664WN', 'N665AW', 'N665BC', 'N665DN', 'N665JB', 'N665UA', 'N665WN', 'N666DN', 'N666UA', 'N667AW', 'N667DN', 'N667GB', 'N667SW', 'N667UA', 'N668AW', 'N668CA', 'N668DN', 'N668HH', 'N668UA', 'N669AW', 'N669CA', 'N669DN', 'N669MB', 'N669SW', 'N669UA', 'N6700', 'N6701', 'N6702', 'N6703D', 'N6704Z', 'N67052', 'N67058', 'N6705Y', 'N6706Q', 'N6707A', 'N6708D', 'N6709', 'N670AE', 'N670DN', 'N670MC', 'N670SW', 'N670UA', 'N6710E', 'N6711M', 'N6712B', 'N67134', 'N6713Y', 'N6714Q', 'N67157', 'N67158', 'N6715C', 'N6716C', 'N67171', 'N671AE', 'N671DN', 'N671MC', 'N671SW', 'N671UA', 'N672AE', 'N672AW', 'N672DL', 'N672SW', 'N672UA', 'N673AA', 'N673AE', 'N673AW', 'N673DL', 'N673UA', 'N674AA', 'N674AW', 'N674DL', 'N674RJ', 'N674UA', 'N675AA', 'N675AE', 'N675AW', 'N675BR', 'N675DL', 'N675MC', 'N675UA', 'N676AE', 'N676AW', 'N676CA', 'N676DL', 'N676MC', 'N676SW', 'N676UA', 'N677AA', 'N677AE', 'N677AW', 'N677DL', 'N677MC', 'N677UA', 'N678AA', 'N678AE', 'N678AW', 'N678CA', 'N678DL', 'N679AA', 'N679AE', 'N679AW', 'N679CA', 'N679DA', 'N68061', 'N680AA', 'N680AE', 'N680AW', 'N680BR', 'N680DA', 'N68155', 'N68159', 'N68160', 'N681AE', 'N681BR', 'N681DA', 'N682AE', 'N682BR', 'N682DA', 'N682SW', 'N683AE', 'N683BR', 'N683DA', 'N683SW', 'N684BR', 'N684DA', 'N684JW', 'N684WN', 'N685AE', 'N685BR', 'N685DA', 'N685SW', 'N686AE', 'N686BR', 'N686DA', 'N686SW', 'N687DL', 'N687JS', 'N687SW', 'N688AE', 'N688DL', 'N688SW', 'N689CA', 'N689DL', 'N689EC', 'N689SW', 'N69059', 'N69063', 'N690AE', 'N690CA', 'N690DL', 'N690SW', 'N69154', 'N691AE', 'N691CA', 'N691WN', 'N692AE', 'N692CA', 'N692DL', 'N692SW', 'N69311', 'N69333', 'N69348', 'N69351', 'N693AE', 'N693BR', 'N693CA', 'N693DL', 'N693SW', 'N694AE', 'N694SW', 'N695AE', 'N695CA', 'N695SW', 'N69602', 'N69603', 'N696AE', 'N697AB', 'N697DL', 'N697SW', 'N698BR', 'N698CB', 'N698DL', 'N698SW', 'N699AE', 'N699BR', 'N699DL', 'N699SW', 'N700GS', 'N700LE', 'N700UW', 'N701DN', 'N701GS', 'N701MH', 'N701SK', 'N701UW', 'N702AE', 'N702DN', 'N702SK', 'N702TW', 'N702UW', 'N70330', 'N70352', 'N70353', 'N703AS', 'N703JB', 'N703MR', 'N703SK', 'N703SW', 'N703TW', 'N703UW', 'N704PG', 'N704SW', 'N704US', 'N704X', 'N705AE', 'N705AS', 'N705JB', 'N705SK', 'N705SW', 'N705TW', 'N705UW', 'N706AS', 'N706EV', 'N706JB', 'N706RG', 'N706SK', 'N706SW', 'N706TW', 'N707EB', 'N707EV', 'N707SA', 'N707SK', 'N707TW', 'N708AE', 'N708AS', 'N708CA', 'N708EV', 'N708SA', 'N708SK', 'N708UW', 'N709BR', 'N709CA', 'N709EV', 'N709GB', 'N709SK', 'N709SW', 'N709TW', 'N709UW', 'N710BR', 'N710CA', 'N710EV', 'N710SK', 'N710SW', 'N710TB', 'N710TW', 'N710UW', 'N711HK', 'N711PH', 'N711UW', 'N711ZX', 'N712AE', 'N712CA', 'N712EV', 'N712SK', 'N712SW', 'N712TW', 'N712US', 'N713AE', 'N713AS', 'N713CA', 'N713EV', 'N713SK', 'N713SW', 'N713TW', 'N713UW', 'N71411', 'N714CB', 'N714US', 'N715AE', 'N715SF', 'N715SK', 'N715SW', 'N715UW', 'N716AE', 'N716CA', 'N716EV', 'N716SK', 'N716SW', 'N716UW', 'N717AE', 'N717EV', 'N717JL', 'N717SA', 'N717TW', 'N717UW', 'N718AE', 'N718EV', 'N718SK', 'N718SW', 'N718TW', 'N719AE', 'N719CA', 'N719EV', 'N719SK', 'N719SW', 'N720AE', 'N720EV', 'N720SW', 'N720WN', 'N721CA', 'N721HS', 'N721TW', 'N721UW', 'N722AE', 'N722EV', 'N722TW', 'N722US', 'N723AE', 'N723EV', 'N723SW', 'N723UW', 'N72405', 'N724AE', 'N724EV', 'N724SK', 'N724SW', 'N724UW', 'N725AE', 'N725SW', 'N725UW', 'N7264V', 'N726AE', 'N726SK', 'N726SW', 'N727AE', 'N727SK', 'N727SW', 'N728AE', 'N728SK', 'N728SW', 'N7291Z', 'N729AE', 'N729CA', 'N729SW', 'N7305V', 'N730EV', 'N730KW', 'N730SK', 'N730SW', 'N730US', 'N73152', 'N731BE', 'N731SA', 'N73251', 'N73256', 'N73259', 'N73270', 'N73275', 'N73276', 'N73278', 'N73283', 'N73291', 'N73299', 'N732DH', 'N732SK', 'N732SW', 'N732US', 'N733KR', 'N733SA', 'N733UW', 'N73406', 'N734EK', 'N734SA', 'N735CA', 'N735SA', 'N735TS', 'N736DT', 'N736SA', 'N737JW', 'N737MW', 'N737US', 'N738AL', 'N738CB', 'N738EV', 'N738NR', 'N738SK', 'N738US', 'N739AE', 'N739AL', 'N739CA', 'N739GB', 'N74007', 'N740AL', 'N740EV', 'N740SK', 'N740SW', 'N740UW', 'N741AL', 'N741EV', 'N741SA', 'N741UW', 'N742AL', 'N742PS', 'N742SK', 'N742SW', 'N743SK', 'N743SW', 'N744EV', 'N744P', 'N744SK', 'N744SW', 'N745SK', 'N745SW', 'N745VJ', 'N746AL', 'N746SK', 'N746SW', 'N746UW', 'N747SA', 'N747UW', 'N74856', 'N748AL', 'N748EV', 'N748SK', 'N748SW', 'N748UW', 'N749SW', 'N749US', 'N750AT', 'N750EV', 'N750NW', 'N750SA', 'N750SK', 'N750UW', 'N751AL', 'N751AT', 'N751EV', 'N751NW', 'N751SK', 'N751SW', 'N751UW', 'N752AT', 'N752EV', 'N752NW', 'N752SK', 'N752SW', 'N752US', 'N753EV', 'N753NW', 'N753SK', 'N753SW', 'N753US', 'N75410', 'N754AS', 'N754EV', 'N754NW', 'N754SK', 'N754SW', 'N754UW', 'N755AS', 'N755EV', 'N755NW', 'N755SA', 'N755SK', 'N755US', 'N756AS', 'N756NW', 'N756SA', 'N756SK', 'N756US', 'N757AT', 'N757LV', 'N757UW', 'N75851', 'N75853', 'N75854', 'N75858', 'N75861', 'N758EV', 'N758NW', 'N758SK', 'N758SW', 'N758US', 'N75987', 'N75991', 'N75992', 'N75993', 'N75994', 'N75995', 'N75996', 'N75998', 'N759EV', 'N759GS', 'N759NW', 'N76010', 'N76054', 'N76055', 'N76062', 'N76064', 'N76065', 'N760AS', 'N760EV', 'N760NC', 'N760NW', 'N760SK', 'N760SW', 'N760US', 'N76151', 'N76153', 'N76156', 'N761NC', 'N761RR', 'N76254', 'N76265', 'N76269', 'N76288', 'N762AS', 'N762NC', 'N762NW', 'N762SK', 'N762SW', 'N762US', 'N76354', 'N76355', 'N763AS', 'N763NW', 'N763SK', 'N763SW', 'N763US', 'N764AS', 'N764NC', 'N764SK', 'N764SW', 'N764US', 'N76502', 'N76503', 'N76504', 'N76505', 'N76508', 'N765AS', 'N765NC', 'N765SK', 'N765SW', 'N765US', 'N766NC', 'N766SK', 'N766SW', 'N766US', 'N767AS', 'N767NC', 'N767SK', 'N767SW', 'N767UW', 'N768AS', 'N768NC', 'N768SK', 'N768SW', 'N768UA', 'N768US', 'N769AS', 'N769NC', 'N769SW', 'N769UA', 'N769US', 'N77006', 'N77014', 'N77019', 'N77066', 'N770NC', 'N770SA', 'N770SK', 'N770UW', 'N77181', 'N77195', 'N771AS', 'N771NC', 'N771SA', 'N771SK', 'N771UA', 'N77258', 'N77260', 'N77261', 'N77278', 'N77286', 'N77295', 'N77296', 'N772AS', 'N772NC', 'N772SK', 'N772SW', 'N772UA', 'N77302', 'N77303', 'N77331', 'N773AS', 'N773NC', 'N773SA', 'N773SK', 'N773UA', 'N774AS', 'N774NC', 'N774SK', 'N774SW', 'N774UA', 'N77510', 'N775AS', 'N775NC', 'N775SW', 'N775UA', 'N776AS', 'N776NC', 'N776SK', 'N776UA', 'N776WN', 'N777NC', 'N777QC', 'N777UA', 'N77865', 'N77867', 'N778AS', 'N778NC', 'N778SK', 'N778SW', 'N778UA', 'N779AS', 'N779CA', 'N779NC', 'N779SW', 'N779UA', 'N78003', 'N78004', 'N78009', 'N78017', 'N78060', 'N780AS', 'N780NC', 'N780SW', 'N780UA', 'N781CA', 'N781NC', 'N781UA', 'N781WN', 'N78285', 'N782AS', 'N782NC', 'N782SA', 'N782UA', 'N783AS', 'N783CA', 'N783NC', 'N783SW', 'N783UA', 'N784AS', 'N784CA', 'N784NC', 'N784SW', 'N784UA', 'N78501', 'N78506', 'N78509', 'N785AS', 'N785CA', 'N785NC', 'N785SW', 'N785UA', 'N786AS', 'N786CA', 'N786NC', 'N786SW', 'N786UA', 'N787NC', 'N787SA', 'N787UA', 'N78866', 'N788AS', 'N788SA', 'N788UA', 'N789SW', 'N79011', 'N790SW', 'N791AS', 'N791SW', 'N791UA', 'N79279', 'N792AS', 'N792SW', 'N792UA', 'N793AS', 'N793SA', 'N793UA', 'N79402', 'N794AS', 'N794SW', 'N794UA', 'N795AS', 'N795SW', 'N795UA', 'N796AS', 'N796CA', 'N796SW', 'N796UA', 'N797AS', 'N797CA', 'N797MX', 'N797UA', 'N798CA', 'N798SW', 'N798UA', 'N799AS', 'N799SW', 'N799UA', 'N800AE', 'N800SK', 'N801AE', 'N801AW', 'N801FR', 'N801NW', 'N801UA', 'N802AE', 'N802AW', 'N802FR', 'N802NW', 'N802SK', 'N803AE', 'N803AW', 'N803FR', 'N803NW', 'N803SK', 'N804AE', 'N804AW', 'N804CA', 'N804FR', 'N804NW', 'N804SK', 'N804UA', 'N805AE', 'N805AW', 'N805CA', 'N805FR', 'N805LR', 'N805NW', 'N805SK', 'N805UA', 'N806AE', 'N806AW', 'N806CA', 'N806FR', 'N806NW', 'N806SK', 'N806UA', 'N807AE', 'N807AW', 'N807CA', 'N807FR', 'N807NW', 'N807SK', 'N807UA', 'N808AE', 'N808AW', 'N808FR', 'N808NW', 'N808UA', 'N809AE', 'N809AW', 'N809CA', 'N809FR', 'N809NW', 'N809SK', 'N809UA', 'N810AE', 'N810AL', 'N810AW', 'N810CA', 'N810FR', 'N810NW', 'N810SK', 'N810UA', 'N811AE', 'N811CA', 'N811NW', 'N811UA', 'N812AE', 'N812AW', 'N812CA', 'N812FR', 'N812NW', 'N812SK', 'N812UA', 'N813AE', 'N813AW', 'N813NW', 'N813SK', 'N813UA', 'N814AE', 'N814AW', 'N814CA', 'N814NW', 'N814SK', 'N814UA', 'N815AE', 'N815AW', 'N815CA', 'N815NW', 'N815SK', 'N815UA', 'N816AE', 'N816AW', 'N816NW', 'N816SK', 'N816UA', 'N817AE', 'N817AW', 'N817NW', 'N817SK', 'N817UA', 'N818AE', 'N818AW', 'N818CA', 'N818NW', 'N818UA', 'N819AE', 'N819AW', 'N819CA', 'N819NW', 'N819UA', 'N820AE', 'N820AS', 'N820AW', 'N820NW', 'N820SK', 'N820UA', 'N821AE', 'N821AS', 'N821AW', 'N821CA', 'N821NW', 'N821SK', 'N821UA', 'N822AE', 'N822AW', 'N822UA', 'N823AE', 'N823AL', 'N823AS', 'N823AW', 'N823UA', 'N824AE', 'N824AL', 'N824AS', 'N824AW', 'N824UA', 'N825AE', 'N825AS', 'N825AW', 'N825MH', 'N825UA', 'N826AE', 'N826AL', 'N826AS', 'N826AW', 'N826MH', 'N826UA', 'N827AE', 'N827AS', 'N827AW', 'N827MH', 'N827UA', 'N828AE', 'N828AL', 'N828AS', 'N828AW', 'N828MH', 'N828UA', 'N829AE', 'N829AS', 'N829AW', 'N829MH', 'N829UA', 'N830AE', 'N830AS', 'N830AW', 'N830MH', 'N830UA', 'N831AE', 'N831AW', 'N831MH', 'N831UA', 'N832AE', 'N832AS', 'N832AW', 'N832MH', 'N832UA', 'N833AE', 'N833AS', 'N833AW', 'N833MH', 'N833UA', 'N834AE', 'N834AS', 'N834AW', 'N834MH', 'N834UA', 'N835AE', 'N835AL', 'N835AS', 'N835AW', 'N835MH', 'N835UA', 'N836AE', 'N836AL', 'N836AS', 'N836AW', 'N836MH', 'N836UA', 'N837AE', 'N837AL', 'N837AS', 'N837AW', 'N837MH', 'N837UA', 'N838AE', 'N838AS', 'N838AW', 'N838MH', 'N838UA', 'N839AE', 'N839AS', 'N839AW', 'N839MH', 'N839UA', 'N840AE', 'N840AS', 'N840AW', 'N840MH', 'N840UA', 'N841AE', 'N841AL', 'N841AS', 'N841MH', 'N841UA', 'N842AE', 'N842AS', 'N842MH', 'N842UA', 'N843AE', 'N843AL', 'N843AS', 'N843MH', 'N843UA', 'N844AE', 'N844AS', 'N844MH', 'N844UA', 'N845AE', 'N845AS', 'N845MH', 'N845UA', 'N846AE', 'N846AS', 'N846UA', 'N847AE', 'N847AS', 'N847UA', 'N848AE', 'N848AS', 'N848UA', 'N849AE', 'N849AS', 'N849UA', 'N850AE', 'N850AS', 'N850UA', 'N851AE', 'N851AS', 'N851UA', 'N852AE', 'N852AS', 'N852NW', 'N852UA', 'N853AE', 'N853AS', 'N853NW', 'N853UA', 'N854AE', 'N854AS', 'N854NW', 'N854UA', 'N855AE', 'N855AS', 'N855NW', 'N855UA', 'N856AE', 'N856AS', 'N856NW', 'N857AE', 'N857AS', 'N857NW', 'N858AE', 'N858AS', 'N859AS', 'N859NW', 'N860AS', 'N860DA', 'N861AS', 'N861DA', 'N862AS', 'N862DA', 'N863AS', 'N863DA', 'N864AS', 'N864DA', 'N865AS', 'N865DA', 'N866AS', 'N866DA', 'N867AS', 'N867DA', 'N868AS', 'N868CA', 'N869AS', 'N870AS', 'N871AS', 'N872AS', 'N87353', 'N873AS', 'N874AS', 'N87507', 'N875AS', 'N876AS', 'N877AS', 'N878AS', 'N879AS', 'N880AS', 'N881AS', 'N882AS', 'N883AS', 'N884AS', 'N885AS', 'N886AS', 'N889AS', 'N891AT', 'N8920E', 'N8921E', 'N8923E', 'N8925E', 'N8926E', 'N8928E', 'N8929E', 'N892AT', 'N8932E', 'N8933E', 'N8938E', 'N893AT', 'N8944E', 'N8945E', 'N894AT', 'N895AT', 'N8960E', 'N896AT', 'N8978E', 'N8986E', 'N899AT', 'N900AE', 'N900DE', 'N900EV', 'N900PC', 'N900WN', 'N901AW', 'N901DA', 'N901DE', 'N901EV', 'N901FR', 'N901WN', 'N902AE', 'N902AW', 'N902BC', 'N902DA', 'N902DE', 'N902EV', 'N902FJ', 'N902FR', 'N902UA', 'N902WN', 'N903AW', 'N903DA', 'N903DE', 'N903EV', 'N903FJ', 'N903FR', 'N903SW', 'N903UA', 'N903WN', 'N904AE', 'N904AW', 'N904DA', 'N904DE', 'N904DL', 'N904EV', 'N904FJ', 'N904FR', 'N904UA', 'N904WN', 'N905AW', 'N905DA', 'N905DE', 'N905DL', 'N905EV', 'N905FR', 'N905JH', 'N905SW', 'N905UA', 'N905WN', 'N906AE', 'N906AT', 'N906AW', 'N906DA', 'N906DE', 'N906DL', 'N906EV', 'N906FJ', 'N906FR', 'N906SW', 'N906UA', 'N906WN', 'N907AE', 'N907DA', 'N907DE', 'N907DL', 'N907EV', 'N907FJ', 'N907FR', 'N907SW', 'N907UA', 'N907WN', 'N908AE', 'N908AW', 'N908DA', 'N908DE', 'N908DL', 'N908EV', 'N908FJ', 'N908FR', 'N908SW', 'N908WN', 'N909AE', 'N909AW', 'N909DA', 'N909DE', 'N909DL', 'N909EV', 'N909FJ', 'N909FR', 'N909SW', 'N909WN', 'N910AT', 'N910AW', 'N910DE', 'N910DL', 'N910DN', 'N910EV', 'N910FJ', 'N910FR', 'N910SW', 'N910UA', 'N910WN', 'N911DA', 'N911DE', 'N911DL', 'N911FJ', 'N912CA', 'N912DE', 'N912DL', 'N912DN', 'N912EV', 'N912FJ', 'N912FR', 'N912SW', 'N912UA', 'N912WN', 'N913AW', 'N913DE', 'N913DL', 'N913DN', 'N913EV', 'N913FJ', 'N913FR', 'N913SW', 'N913UA', 'N913WN', 'N914AW', 'N914CA', 'N914DE', 'N914DL', 'N914DN', 'N914EV', 'N914FJ', 'N914FR', 'N914UA', 'N914WN', 'N915AT', 'N915AW', 'N915CA', 'N915DE', 'N915DL', 'N915DN', 'N915EV', 'N915FJ', 'N915FR', 'N915RW', 'N915SW', 'N915WN', 'N916CA', 'N916DE', 'N916DL', 'N916DN', 'N916EV', 'N916FJ', 'N916FR', 'N916RW', 'N916SW', 'N916UW', 'N916WN', 'N917CA', 'N917DE', 'N917DL', 'N917EV', 'N917FJ', 'N917FR', 'N917SW', 'N917UW', 'N917WN', 'N918AE', 'N918CA', 'N918DE', 'N918DL', 'N918FJ', 'N918FR', 'N918SW', 'N918UA', 'N918UW', 'N918WN', 'N919AT', 'N919DE', 'N919DL', 'N919EV', 'N919FJ', 'N919FR', 'N919SW', 'N919UA', 'N919UW', 'N920AT', 'N920CA', 'N920DE', 'N920DL', 'N920EV', 'N920FJ', 'N920FR', 'N920SW', 'N920UW', 'N921AT', 'N921DL', 'N921EV', 'N921FJ', 'N921FR', 'N921RW', 'N921UA', 'N921UW', 'N922AE', 'N922AT', 'N922DL', 'N922EV', 'N922FJ', 'N922FR', 'N922UA', 'N922UW', 'N923AE', 'N923AT', 'N923DL', 'N923EV', 'N923FJ', 'N923FR', 'N923RW', 'N923SW', 'N923UA', 'N923UW', 'N924AT', 'N924CA', 'N924DL', 'N924EV', 'N924FJ', 'N924FR', 'N924RW', 'N924SW', 'N924UA', 'N924UW', 'N925AE', 'N925AT', 'N925DL', 'N925EV', 'N925FJ', 'N925FR', 'N925SW', 'N925UA', 'N925US', 'N925UW', 'N926AT', 'N926CA', 'N926DL', 'N926EV', 'N926FR', 'N926LR', 'N926NW', 'N926SW', 'N927AT', 'N927CA', 'N927DA', 'N927EV', 'N927FR', 'N927LR', 'N927SW', 'N927UA', 'N927UW', 'N928AE', 'N928AT', 'N928DL', 'N928EV', 'N928FR', 'N928LR', 'N928SW', 'N928UA', 'N929AT', 'N929CA', 'N929DL', 'N929EV', 'N929FR', 'N929LR', 'N929SW', 'N929UA', 'N929UW', 'N930AT', 'N930DL', 'N930EV', 'N930FR', 'N930LR', 'N930SW', 'N930UA', 'N930UW', 'N931AE', 'N931CA', 'N931DL', 'N931EV', 'N931FR', 'N931LR', 'N932AE', 'N932AT', 'N932CA', 'N932DL', 'N932EV', 'N932FR', 'N932LR', 'N932SW', 'N932UA', 'N932UW', 'N9332', 'N9333', 'N9338', 'N9339', 'N933AT', 'N933CA', 'N933DL', 'N933EV', 'N933FR', 'N933JN', 'N933LR', 'N933UA', 'N933UW', 'N9343', 'N9346', 'N934AT', 'N934DL', 'N934EV', 'N934FJ', 'N934FR', 'N934SW', 'N934UA', 'N934UW', 'N935AE', 'N935AT', 'N935DL', 'N935EV', 'N935FR', 'N935LR', 'N935SW', 'N935UA', 'N935UW', 'N936AT', 'N936CA', 'N936DL', 'N936EV', 'N936FR', 'N936SW', 'N936UA', 'N936UW', 'N937AT', 'N937CA', 'N937DL', 'N937EV', 'N937FR', 'N937SW', 'N937UA', 'N937UW', 'N938AT', 'N938CA', 'N938DL', 'N938FR', 'N938LR', 'N938SW', 'N938UA', 'N938UW', 'N939AE', 'N939AT', 'N939DL', 'N939FR', 'N939LR', 'N939SW', 'N939UW', 'N940AT', 'N940CA', 'N940DL', 'N940FR', 'N940N', 'N940UW', 'N941CA', 'N941DL', 'N941FR', 'N941LT', 'N941SW', 'N941UA', 'N941UW', 'N942AT', 'N942DL', 'N942FR', 'N942LR', 'N942UA', 'N942UW', 'N943AT', 'N943DL', 'N943FR', 'N943N', 'N943SW', 'N944AS', 'N944AT', 'N944DL', 'N944FR', 'N944SW', 'N944UW', 'N945AT', 'N945DL', 'N945FR', 'N945N', 'N945SW', 'N945UW', 'N946AT', 'N946DL', 'N946FR', 'N946SW', 'N946UW', 'N947AT', 'N947DL', 'N947FR', 'N947SW', 'N947UW', 'N948AS', 'N948AT', 'N948DL', 'N948FR', 'N948SW', 'N948UW', 'N949AT', 'N949DL', 'N949FR', 'N949UW', 'N950AT', 'N950DL', 'N950FR', 'N950UW', 'N951AT', 'N951DL', 'N951SW', 'N951UW', 'N952AT', 'N952DL', 'N952SW', 'N952UW', 'N953AT', 'N953DL', 'N953SW', 'N953UW', 'N954AT', 'N954CA', 'N954DL', 'N954SW', 'N954UW', 'N955AT', 'N955DL', 'N955SW', 'N955UW', 'N956AT', 'N956CA', 'N956DL', 'N956LR', 'N956SW', 'N956UW', 'N957AT', 'N957CA', 'N957DL', 'N957SW', 'N957UW', 'N958AS', 'N958AT', 'N958CA', 'N958DL', 'N958SW', 'N958UW', 'N959AT', 'N959CA', 'N959DL', 'N959SW', 'N959UW', 'N960AS', 'N960AT', 'N960CA', 'N960DL', 'N960SW', 'N961AS', 'N961AT', 'N961DL', 'N961SW', 'N962AS', 'N962CA', 'N962DL', 'N962SW', 'N963AT', 'N963CA', 'N963DL', 'N963SW', 'N964AT', 'N964CA', 'N964DL', 'N964SW', 'N965AT', 'N965CA', 'N965DL', 'N965SW', 'N966AT', 'N966CA', 'N966DL', 'N967AT', 'N967CA', 'N967DL', 'N967N', 'N967SW', 'N968AS', 'N968AT', 'N968DL', 'N969AS', 'N969AT', 'N969CA', 'N969DL', 'N969SW', 'N970AT', 'N970DL', 'N970EV', 'N970SW', 'N971AT', 'N971DL', 'N971EV', 'N971SW', 'N972AS', 'N972AT', 'N972DL', 'N972EV', 'N97325', 'N973CA', 'N973DL', 'N973EV', 'N973SW', 'N974AT', 'N974DL', 'N974EV', 'N975AS', 'N975AT', 'N975DL', 'N975EV', 'N975SW', 'N976DL', 'N976EV', 'N976SW', 'N977AS', 'N977AT', 'N977DL', 'N977EV', 'N978AT', 'N978DL', 'N978EV', 'N978SW', 'N979AS', 'N979AT', 'N979DL', 'N979EV', 'N979SW', 'N980AT', 'N980DL', 'N980EV', 'N980SW', 'N981AT', 'N981DL', 'N981EV', 'N982AS', 'N982AT', 'N982DL', 'N982SW', 'N983AT', 'N983CA', 'N983DL', 'N983SW', 'N984CA', 'N984DL', 'N984US', 'N985AT', 'N985DL', 'N986AT', 'N986CA', 'N986DL', 'N986SW', 'N987AT', 'N987DL', 'N987HA', 'N987US', 'N988AT', 'N988CA', 'N988DL', 'N988HA', 'N989AT', 'N989CA', 'N989DL', 'N989HA', 'N990AT', 'N990DL', 'N991AT', 'N991DL', 'N991HA', 'N991cA', 'N992AT', 'N992DL', 'N993AT', 'N993DL', 'N994AT', 'N994DL', 'N995AT', 'N995DL', 'N996AT', 'N996DL', 'N997AT', 'N997DL', 'N998AT', 'N998DL', 'N999CA', 'N999DN']\n",
      "Fixed Wing Single-Engine : ['N201AA', 'N3744D', 'N376AA', 'N377AA', 'N378AA', 'N394AA', 'N395AA', 'N425AA', 'N444AA', 'N474AA', 'N507AA', 'N509AA', 'N510AA', 'N544AA', 'N545AA', 'N547AA', 'N550AA', 'N551AA', 'N557AA', 'N567AA', 'N575AA', 'N611AA', 'N621AA', 'N637AA', 'N696DA', 'N9149E', 'N9159E', 'N9179E', 'N972CA']\n",
      "Rotorcraft : ['N343AA', 'N347AA', 'N348AA', 'N349AA', 'N365AA', 'N380AA', 'N508AA', 'N906']\n"
     ]
    }
   ],
   "source": [
    "## 17. List planes made by aircraft types\n",
    "planes = airline.planes.distinct('aircraft_type')\n",
    "for aircraft_type in planes:\n",
    "    m = aircraft_type\n",
    "    t = airline.planes.find({'aircraft_type':m})\n",
    "    types = t.distinct('tailnum')\n",
    "    print(m,':',types)"
   ]
  },
  {
   "cell_type": "code",
   "execution_count": 182,
   "metadata": {},
   "outputs": [
    {
     "name": "stdout",
     "output_type": "stream",
     "text": [
      "4 Cycle : ['N474AA', 'N621AA', 'N696DA', 'N906']\n",
      "None : ['N401AA', 'N402AA', 'N405AA']\n",
      "Reciprocating : ['N201AA', 'N202AA', 'N293', 'N350AA', 'N3744D', 'N376AA', 'N377AA', 'N378AA', 'N381AA', 'N394AA', 'N395AA', 'N421AA', 'N425AA', 'N444AA', 'N507AA', 'N509AA', 'N510AA', 'N523AA', 'N525AA', 'N544AA', 'N545AA', 'N547AA', 'N551AA', 'N557AA', 'N567AA', 'N575AA', 'N611AA', 'N637AA', 'N9149E', 'N9159E', 'N9179E', 'N972CA']\n",
      "Turbo-Fan : ['N10156', 'N102UW', 'N103US', 'N104UA', 'N104UW', 'N10575', 'N105UW', 'N106US', 'N107UA', 'N107US', 'N108UW', 'N109UW', 'N110UW', 'N11106', 'N11107', 'N11109', 'N11113', 'N11119', 'N11121', 'N11127', 'N11137', 'N11140', 'N11150', 'N11155', 'N11164', 'N11165', 'N11176', 'N11181', 'N11184', 'N11187', 'N11189', 'N11191', 'N11192', 'N11193', 'N11194', 'N11199', 'N111US', 'N11206', 'N112US', 'N113UW', 'N114UW', 'N11526', 'N11535', 'N11536', 'N11539', 'N11544', 'N11547', 'N11548', 'N11551', 'N11565', 'N11612', 'N11641', 'N11651', 'N11656', 'N116UA', 'N117UA', 'N117UW', 'N118US', 'N119UA', 'N119US', 'N1200K', 'N1201P', 'N120UA', 'N12122', 'N12126', 'N12135', 'N12136', 'N12142', 'N12145', 'N12157', 'N12160', 'N12163', 'N12166', 'N12167', 'N12172', 'N12175', 'N12195', 'N121DE', 'N121UA', 'N121UW', 'N12201', 'N12216', 'N12218', 'N12221', 'N12225', 'N12238', 'N122UA', 'N122US', 'N123UW', 'N124DE', 'N124US', 'N12519', 'N12528', 'N12530', 'N12540', 'N12552', 'N12563', 'N12564', 'N12567', 'N12569', 'N125DL', 'N126AT', 'N126DL', 'N127DL', 'N128DL', 'N128UA', 'N12900', 'N12921', 'N12922', 'N12924', 'N12957', 'N12967', 'N12996', 'N129DL', 'N130DL', 'N13118', 'N13123', 'N13124', 'N13132', 'N13133', 'N13161', 'N131DN', 'N13202', 'N13248', 'N132DN', 'N133DN', 'N134DL', 'N13538', 'N13550', 'N13553', 'N13566', 'N135DL', 'N13624', 'N136DL', 'N137DL', 'N138DL', 'N13903', 'N13908', 'N13913', 'N13914', 'N13949', 'N13955', 'N13956', 'N13958', 'N13964', 'N13965', 'N13968', 'N13969', 'N13970', 'N13975', 'N13978', 'N13979', 'N13988', 'N13989', 'N13990', 'N13992', 'N13994', 'N13995', 'N13997', 'N139DL', 'N1402A', 'N140LL', 'N14105', 'N14116', 'N14117', 'N14125', 'N14143', 'N14148', 'N14153', 'N14158', 'N14162', 'N14168', 'N14171', 'N14173', 'N14174', 'N14177', 'N14179', 'N14180', 'N14186', 'N14188', 'N14198', 'N14203', 'N14204', 'N14214', 'N14219', 'N14230', 'N14231', 'N14237', 'N14242', 'N14250', 'N143DA', 'N144DA', 'N14514', 'N14516', 'N14522', 'N14542', 'N14543', 'N14558', 'N14562', 'N14568', 'N14570', 'N14573', 'N14601', 'N14604', 'N14605', 'N14609', 'N14613', 'N14628', 'N14629', 'N14639', 'N14645', 'N14652', 'N14653', 'N14654', 'N14655', 'N14664', 'N14667', 'N14668', 'N14902', 'N14904', 'N14905', 'N14907', 'N14916', 'N14920', 'N14923', 'N14950', 'N14952', 'N14953', 'N14959', 'N14960', 'N14972', 'N14974', 'N14977', 'N14991', 'N14993', 'N14998', 'N149AT', 'N1501P', 'N152DL', 'N153DL', 'N154DL', 'N15527', 'N15555', 'N15572', 'N15574', 'N155DL', 'N15659', 'N156DL', 'N15910', 'N15912', 'N15973', 'N15980', 'N15983', 'N15985', 'N15986', 'N1602', 'N1603', 'N1604R', 'N1605', 'N16065', 'N1607B', 'N1608', 'N1609', 'N1610D', 'N16112', 'N1611B', 'N1612T', 'N1613B', 'N16147', 'N16149', 'N16151', 'N16170', 'N16178', 'N16183', 'N16217', 'N16234', 'N164AW', 'N16520', 'N16525', 'N16541', 'N16546', 'N16559', 'N16561', 'N16571', 'N16607', 'N16618', 'N16632', 'N16642', 'N16646', 'N16647', 'N16648', 'N16649', 'N16650', 'N166AT', 'N166AW', 'N167AT', 'N168AT', 'N168AW', 'N16911', 'N16918', 'N16919', 'N16951', 'N16954', 'N16961', 'N16963', 'N16976', 'N16981', 'N16987', 'N16999', 'N169AT', 'N169DZ', 'N17108', 'N17115', 'N17138', 'N17146', 'N17159', 'N17169', 'N17185', 'N17196', 'N171DN', 'N171DZ', 'N17229', 'N17233', 'N17244', 'N17245', 'N17275', 'N172DN', 'N172DZ', 'N17337', 'N17358', 'N173AT', 'N173DN', 'N173DZ', 'N173UA', 'N174AT', 'N174DN', 'N174DZ', 'N174UA', 'N17513', 'N17521', 'N17524', 'N17560', 'N175AT', 'N175AW', 'N175DN', 'N175DZ', 'N175UA', 'N17619', 'N17620', 'N17627', 'N17640', 'N17644', 'N17663', 'N176AT', 'N176DN', 'N176DZ', 'N177DN', 'N177DZ', 'N177UA', 'N178DN', 'N178DZ', 'N178JB', 'N178UA', 'N17984', 'N179DN', 'N179JB', 'N179UA', 'N180DN', 'N180UA', 'N18101', 'N18102', 'N18114', 'N18120', 'N181DN', 'N181UA', 'N18220', 'N18223', 'N18243', 'N182DN', 'N182UA', 'N183DN', 'N183JB', 'N184AT', 'N184DN', 'N184JB', 'N18556', 'N18557', 'N185DN', 'N18611', 'N18622', 'N18658', 'N186DN', 'N187DN', 'N187JB', 'N187UA', 'N188DN', 'N18982', 'N189DN', 'N190DN', 'N190JB', 'N191DN', 'N192DN', 'N192JB', 'N193DN', 'N193JB', 'N194DN', 'N19554', 'N195DN', 'N195UA', 'N19621', 'N19623', 'N19638', 'N196DN', 'N196UA', 'N197DN', 'N197JB', 'N197UA', 'N198DN', 'N198JB', 'N19966', 'N199DN', 'N199UA', 'N200UU', 'N200WN', 'N201FR', 'N201LV', 'N201UU', 'N202FR', 'N202UA', 'N202UW', 'N202WN', 'N203JB', 'N203UA', 'N203UW', 'N203WN', 'N204UA', 'N204UW', 'N204WN', 'N205UW', 'N205WN', 'N206JB', 'N206UA', 'N206UW', 'N206WN', 'N207AA', 'N207WN', 'N208AA', 'N208WN', 'N209UA', 'N209WN', 'N210UA', 'N210WN', 'N21129', 'N21130', 'N21144', 'N21154', 'N21197', 'N211UA', 'N211WN', 'N212UA', 'N212WN', 'N213UA', 'N213WN', 'N214AA', 'N214UA', 'N214WN', 'N21537', 'N215UA', 'N215WN', 'N216JB', 'N216UA', 'N216WR', 'N217JC', 'N217UA', 'N218AA', 'N218UA', 'N218WN', 'N219AA', 'N219UA', 'N219WN', 'N220UA', 'N220WN', 'N221UA', 'N221WN', 'N222UA', 'N222WN', 'N223AA', 'N223UA', 'N223WN', 'N224UA', 'N224WN', 'N225UA', 'N225WN', 'N226UA', 'N226WN', 'N227AA', 'N227UA', 'N227WN', 'N228JB', 'N228UA', 'N228WN', 'N22909', 'N22971', 'N229JB', 'N229UA', 'N229WN', 'N230WN', 'N23139', 'N231JB', 'N231WN', 'N232AA', 'N232WN', 'N233AA', 'N233LV', 'N234AA', 'N234WN', 'N235WN', 'N23661', 'N236AA', 'N236JB', 'N236WN', 'N237AA', 'N237WN', 'N238JB', 'N238WN', 'N239JB', 'N239WN', 'N240AT', 'N240WN', 'N24103', 'N24128', 'N241AA', 'N241WN', 'N24202', 'N24211', 'N24212', 'N24224', 'N242AA', 'N242WN', 'N243WN', 'N244AA', 'N244WN', 'N24517', 'N245AA', 'N245WN', 'N24633', 'N246AA', 'N246LV', 'N247JB', 'N247WN', 'N248AA', 'N248WN', 'N249AA', 'N249JB', 'N249WN', 'N250WN', 'N25134', 'N251AA', 'N251WN', 'N252WN', 'N253WN', 'N254WN', 'N255AA', 'N255WN', 'N256WN', 'N257WN', 'N258AA', 'N258JB', 'N258WN', 'N259AA', 'N259WN', 'N260WN', 'N26141', 'N261AT', 'N261WN', 'N26208', 'N26210', 'N26215', 'N26226', 'N262AA', 'N262WN', 'N263WN', 'N264LV', 'N26545', 'N26549', 'N265JB', 'N265WN', 'N266AA', 'N266JB', 'N266WN', 'N267AT', 'N267JB', 'N267WN', 'N268AT', 'N268WN', 'N269WN', 'N27015', 'N270WN', 'N27152', 'N27190', 'N271AA', 'N27200', 'N27205', 'N27213', 'N27239', 'N272AT', 'N272WN', 'N27314', 'N27318', 'N273AT', 'N273JB', 'N273WN', 'N274AA', 'N274JB', 'N274WN', 'N27523', 'N275WN', 'N27610', 'N276AT', 'N276WN', 'N277WN', 'N278AA', 'N278AT', 'N278WN', 'N279AA', 'N279AT', 'N279JB', 'N279WN', 'N280WN', 'N281AT', 'N281JB', 'N281WN', 'N282WN', 'N283AA', 'N283AT', 'N283JB', 'N283WN', 'N284AT', 'N284JB', 'N284WN', 'N28518', 'N28529', 'N285AT', 'N285WN', 'N286AT', 'N286WN', 'N287AA', 'N287AT', 'N287WN', 'N288AT', 'N288JB', 'N288WN', 'N289AA', 'N289AT', 'N289CT', 'N289JB', 'N290AA', 'N290AT', 'N290JB', 'N290WN', 'N291AA', 'N291AT', 'N291WN', 'N292AA', 'N292AT', 'N292WN', 'N293AA', 'N294WN', 'N29515', 'N295AT', 'N295WN', 'N296AT', 'N296WN', 'N297AA', 'N297WN', 'N298AA', 'N298WN', 'N29906', 'N29917', 'N299AT', 'N299WN', 'N300AT', 'N300SW', 'N301NB', 'N301SW', 'N301UA', 'N302NB', 'N302SW', 'N302UA', 'N303SW', 'N303UA', 'N30401', 'N304SW', 'N304UA', 'N305SW', 'N305UA', 'N306SW', 'N306UA', 'N307AT', 'N307SW', 'N307UA', 'N308AT', 'N308SA', 'N308UA', 'N309AT', 'N309SW', 'N309UA', 'N310SW', 'N310UA', 'N31131', 'N311AT', 'N311SW', 'N311UA', 'N312AT', 'N312SW', 'N312UA', 'N313AT', 'N313AW', 'N313SW', 'N313UA', 'N31412', 'N314AW', 'N314NB', 'N314SW', 'N314UA', 'N315AT', 'N315AW', 'N315NB', 'N315SW', 'N315UA', 'N316AT', 'N316AW', 'N316NB', 'N316SW', 'N317AT', 'N317CA', 'N317NB', 'N317WN', 'N318AT', 'N318NB', 'N318SW', 'N318UA', 'N319AA', 'N319NB', 'N320AA', 'N320NB', 'N321AA', 'N321NB', 'N322AA', 'N322NB', 'N322SW', 'N323AA', 'N323NB', 'N323SW', 'N32404', 'N324AA', 'N324NB', 'N324SW', 'N325AA', 'N325NB', 'N325SW', 'N325UA', 'N32626', 'N326AT', 'N326NB', 'N326SW', 'N326UA', 'N327AA', 'N327NB', 'N327SW', 'N327UA', 'N328AA', 'N328AT', 'N328NB', 'N328SW', 'N328UA', 'N329AA', 'N329AT', 'N329NB', 'N329SW', 'N329UA', 'N330AT', 'N330NB', 'N330SW', 'N330UA', 'N33182', 'N331AT', 'N331CA', 'N331NB', 'N331SW', 'N331UA', 'N33203', 'N33209', 'N33262', 'N33264', 'N33266', 'N33284', 'N33286', 'N33289', 'N33292', 'N33294', 'N332AA', 'N332AW', 'N332NB', 'N332SW', 'N332UA', 'N333NB', 'N333SW', 'N333UA', 'N334AW', 'N334NB', 'N334NW', 'N334SW', 'N334UA', 'N335AA', 'N335NB', 'N335NW', 'N335SW', 'N335UA', 'N33608', 'N336AA', 'N336AT', 'N336NB', 'N336NW', 'N336SW', 'N336UA', 'N337AT', 'N337NB', 'N337NW', 'N337SW', 'N337UA', 'N338AA', 'N338AT', 'N338NB', 'N338NW', 'N338SW', 'N338UA', 'N339AA', 'N339NB', 'N339NW', 'N339SW', 'N339UA', 'N340CA', 'N340NB', 'N340NW', 'N340UA', 'N34110', 'N34111', 'N341NB', 'N341NW', 'N341SW', 'N341UA', 'N34222', 'N34282', 'N342NB', 'N342NW', 'N342SW', 'N342UA', 'N343NB', 'N343NW', 'N343SW', 'N344AA', 'N344AT', 'N344NB', 'N344NW', 'N344SW', 'N345AA', 'N345NB', 'N345NW', 'N346NB', 'N346SW', 'N346UA', 'N347NB', 'N347NW', 'N347SW', 'N347UA', 'N348NB', 'N348NW', 'N348SW', 'N348UA', 'N349NB', 'N349NW', 'N349SW', 'N349UA', 'N350NA', 'N350SW', 'N350UA', 'N351AA', 'N351NB', 'N351NW', 'N351SW', 'N351UA', 'N35204', 'N35260', 'N35271', 'N352AA', 'N352NB', 'N352NW', 'N352SW', 'N353AA', 'N353NB', 'N353NW', 'N353SW', 'N35407', 'N354AA', 'N354CA', 'N354NB', 'N354NW', 'N354SW', 'N355AA', 'N355CA', 'N355NB', 'N355NW', 'N355SW', 'N356NW', 'N356SW', 'N357AA', 'N357NB', 'N357NW', 'N357SW', 'N358AA', 'N358NB', 'N358NW', 'N358SW', 'N359AA', 'N359NB', 'N359NW', 'N359SW', 'N360AA', 'N360NB', 'N360NW', 'N360SW', 'N361AA', 'N361NB', 'N361NW', 'N361SW', 'N36207', 'N36247', 'N36272', 'N36280', 'N362AA', 'N362NB', 'N362NW', 'N362SW', 'N363AA', 'N363NB', 'N363NW', 'N363SW', 'N364NB', 'N364NW', 'N364SW', 'N364UA', 'N365NB', 'N365NW', 'N365SW', 'N365UA', 'N366AA', 'N366NB', 'N366NW', 'N366SW', 'N366UA', 'N367CA', 'N367NW', 'N367SW', 'N367UA', 'N368AA', 'N368CA', 'N368NB', 'N368NW', 'N368SW', 'N36915', 'N369AA', 'N369CA', 'N369NB', 'N369NW', 'N369SW', 'N369UA', 'N37018', 'N370AA', 'N370NB', 'N370NW', 'N370SW', 'N370UA', 'N371AA', 'N371CA', 'N371NB', 'N371NW', 'N371SW', 'N371UA', 'N37252', 'N37253', 'N37255', 'N37263', 'N37267', 'N37273', 'N37274', 'N37277', 'N37281', 'N37287', 'N37290', 'N37293', 'N37298', 'N372AA', 'N372NW', 'N372SW', 'N372UA', 'N37342', 'N373AA', 'N373NW', 'N373SW', 'N373UA', 'N37408', 'N37409', 'N37413', 'N37419', 'N37420', 'N374AA', 'N374CA', 'N374NW', 'N374SW', 'N374UA', 'N375NC', 'N375SW', 'N375UA', 'N37615', 'N376CA', 'N376NW', 'N376SW', 'N376UA', 'N377NW', 'N377UA', 'N378CA', 'N378NW', 'N378SW', 'N378UA', 'N379AA', 'N379CA', 'N379SW', 'N379UA', 'N380SW', 'N381UA', 'N38257', 'N38268', 'N382SW', 'N382UA', 'N383SW', 'N383UA', 'N38403', 'N38417', 'N384AA', 'N384SW', 'N385SW', 'N385UA', 'N386AA', 'N386SW', 'N386UA', 'N387SW', 'N388AA', 'N388SW', 'N389AA', 'N389SW', 'N390AA', 'N390CA', 'N390SW', 'N391AA', 'N391CA', 'N391SW', 'N39297', 'N392SW', 'N39415', 'N39416', 'N39418', 'N394DL', 'N394SW', 'N395SW', 'N396SW', 'N397SW', 'N398CA', 'N398SW', 'N398UA', 'N399UA', 'N399WN', 'N400AA', 'N400WN', 'N401WN', 'N402WN', 'N403CA', 'N403WN', 'N404WN', 'N405WN', 'N406WN', 'N407AA', 'N407WN', 'N408AA', 'N408CA', 'N408WN', 'N409AA', 'N409CA', 'N409WN', 'N410AA', 'N410WN', 'N41104', 'N411AA', 'N411WN', 'N412AA', 'N412WN', 'N413AA', 'N413WN', 'N414WN', 'N415AA', 'N415WN', 'N416AA', 'N416WN', 'N417AA', 'N417SW', 'N417WN', 'N418AA', 'N418SW', 'N418WN', 'N419AA', 'N419WN', 'N420AA', 'N420CA', 'N420WN', 'N421LV', 'N422AA', 'N422WN', 'N423AA', 'N423SW', 'N423WN', 'N424AA', 'N424WN', 'N425LV', 'N426AA', 'N426SW', 'N426WN', 'N427AA', 'N427CA', 'N427SW', 'N427WN', 'N428AA', 'N428WN', 'N429AA', 'N429SW', 'N429WN', 'N430AA', 'N430CA', 'N430SW', 'N430WN', 'N431AA', 'N431SW', 'N431WN', 'N432AA', 'N432SW', 'N432WN', 'N433AA', 'N433LV', 'N433SW', 'N434AA', 'N434WN', 'N435AA', 'N435CA', 'N435SW', 'N435WN', 'N436AA', 'N436CA', 'N436WN', 'N437AA', 'N437SW', 'N437WN', 'N438AA', 'N438SW', 'N438WN', 'N439AA', 'N439SW', 'N439WN', 'N440AA', 'N440LV', 'N440SW', 'N441AA', 'N441SW', 'N441WN', 'N442AA', 'N442CA', 'N442SW', 'N442WN', 'N443AA', 'N443CA', 'N443SW', 'N443WN', 'N444WN', 'N445AA', 'N445SW', 'N445WN', 'N446AA', 'N446CA', 'N446SW', 'N446WN', 'N447AA', 'N447CA', 'N447SW', 'N447WN', 'N448AA', 'N448SW', 'N448WN', 'N449AA', 'N449SW', 'N449WN', 'N450AA', 'N450WN', 'N451AA', 'N451CA', 'N451WN', 'N452AA', 'N452SW', 'N452WN', 'N453AA', 'N453SW', 'N453WN', 'N454AA', 'N454SW', 'N454WN', 'N455AA', 'N455CA', 'N455SW', 'N455WN', 'N456AA', 'N456WN', 'N457AA', 'N457SW', 'N457WN', 'N458AA', 'N458WN', 'N459AA', 'N459SW', 'N459WN', 'N460AA', 'N460SW', 'N460WN', 'N461AA', 'N461SW', 'N461WN', 'N462AA', 'N462WN', 'N463AA', 'N463SW', 'N463WN', 'N464AA', 'N464SW', 'N464WN', 'N465SW', 'N465WN', 'N46625', 'N466AA', 'N466SW', 'N466WN', 'N467AA', 'N467WN', 'N468AA', 'N468CA', 'N468WN', 'N469AA', 'N469WN', 'N470AA', 'N470WN', 'N471AA', 'N471CA', 'N472AA', 'N472CA', 'N472WN', 'N473AA', 'N473WN', 'N47414', 'N474WN', 'N475AA', 'N475HA', 'N475WN', 'N476AA', 'N476HA', 'N476WN', 'N477AA', 'N477CA', 'N477HA', 'N477WN', 'N478AA', 'N478HA', 'N478WN', 'N479AA', 'N479CA', 'N479HA', 'N479WN', 'N480AA', 'N480HA', 'N480WN', 'N481AA', 'N481HA', 'N481WN', 'N482AA', 'N482WN', 'N483WN', 'N484AA', 'N484HA', 'N484WN', 'N485AA', 'N485HA', 'N485WN', 'N486AA', 'N486HA', 'N486WN', 'N487AA', 'N487CA', 'N487HA', 'N487WN', 'N488AA', 'N488WN', 'N48901', 'N489AA', 'N489UA', 'N489WN', 'N490AA', 'N490UA', 'N490WN', 'N491AA', 'N491UA', 'N491WN', 'N492AA', 'N492UA', 'N492WN', 'N493AA', 'N493UA', 'N493WN', 'N494AA', 'N494CA', 'N494UA', 'N494WN', 'N495AA', 'N495CA', 'N495UA', 'N495WN', 'N496AA', 'N496CA', 'N496UA', 'N496WN', 'N497AA', 'N497UA', 'N497WN', 'N498AA', 'N498CA', 'N498UA', 'N498WN', 'N499AA', 'N499WN', 'N500AE', 'N501AA', 'N501BG', 'N501MJ', 'N502AE', 'N502MJ', 'N503AE', 'N503MJ', 'N504AE', 'N504AU', 'N504MJ', 'N505AA', 'N505AE', 'N505AU', 'N505MJ', 'N506AE', 'N506AU', 'N506CA', 'N506MJ', 'N507AE', 'N507CA', 'N507MJ', 'N508AE', 'N508MJ', 'N509AE', 'N509MJ', 'N510AE', 'N510CA', 'N510MJ', 'N511AE', 'N511AU', 'N511MJ', 'N512AE', 'N512AU', 'N512MJ', 'N513AA', 'N513AE', 'N513MJ', 'N514AE', 'N514CA', 'N514MJ', 'N515AE', 'N515MJ', 'N516AE', 'N516AU', 'N516LR', 'N517AE', 'N517AU', 'N518AE', 'N518AU', 'N518CA', 'N518LR', 'N519AA', 'N519AE', 'N519LR', 'N520DC', 'N521AE', 'N521LR', 'N522AE', 'N522LR', 'N523AE', 'N523CA', 'N524AE', 'N52616', 'N526AU', 'N526CA', 'N527AU', 'N528CA', 'N529AU', 'N530AU', 'N531AU', 'N532AU', 'N533AU', 'N536JB', 'N538CA', 'N54241', 'N546AS', 'N546JB', 'N547JB', 'N548AS', 'N548CA', 'N548JB', 'N549CA', 'N550JB', 'N550WN', 'N551AS', 'N551WN', 'N552AA', 'N552AS', 'N552JB', 'N553AA', 'N553AS', 'N554AA', 'N554CA', 'N554JB', 'N556AA', 'N556AS', 'N556JB', 'N557AS', 'N558AA', 'N558AS', 'N558JB', 'N559AA', 'N559AS', 'N559JB', 'N560AS', 'N561AA', 'N561JB', 'N562AA', 'N562AS', 'N562JB', 'N563AA', 'N563AS', 'N563JB', 'N564AA', 'N564AS', 'N564JB', 'N565AA', 'N565AS', 'N565JB', 'N566AA', 'N566AS', 'N566JB', 'N568AA', 'N568AS', 'N568JB', 'N569AA', 'N569AS', 'N569JB', 'N570AA', 'N570AS', 'N570JB', 'N571AA', 'N571JB', 'N572AA', 'N573AA', 'N574AA', 'N576AA', 'N577AA', 'N577AS', 'N578AA', 'N579AA', 'N579AS', 'N579JB', 'N580AA', 'N580HA', 'N580JB', 'N581AA', 'N581AS', 'N581HA', 'N581JB', 'N582AA', 'N582CA', 'N582HA', 'N582JB', 'N583AA', 'N583AS', 'N583HA', 'N583JB', 'N584AA', 'N584AS', 'N585AA', 'N585AS', 'N585JB', 'N58606', 'N586AA', 'N586AS', 'N586JB', 'N587AA', 'N587AS', 'N587HA', 'N587JB', 'N588AA', 'N588AS', 'N588JB', 'N589AA', 'N589AS', 'N589HA', 'N589JB', 'N590AA', 'N590AS', 'N590JB', 'N591AA', 'N591HA', 'N591JB', 'N592AA', 'N592AS', 'N592JB', 'N593AA', 'N593AS', 'N593HA', 'N593JB', 'N594AA', 'N594AS', 'N594HA', 'N594JB', 'N594SW', 'N595AA', 'N595JB', 'N595SW', 'N59630', 'N596AA', 'N596AS', 'N596HA', 'N597AA', 'N597HA', 'N597JB', 'N597SW', 'N598AA', 'N598HA', 'N598JB', 'N599AA', 'N599JB', 'N600WN', 'N601AW', 'N601WN', 'N602SW', 'N603AT', 'N603AW', 'N603JB', 'N603SK', 'N603SW', 'N604AT', 'N604SK', 'N604SW', 'N605JB', 'N605SW', 'N606JB', 'N606SK', 'N606SW', 'N607JB', 'N607SK', 'N607SW', 'N608JB', 'N608SK', 'N608SW', 'N609SK', 'N609SW', 'N610AA', 'N610WN', 'N611SK', 'N611SW', 'N612AA', 'N612JB', 'N612SW', 'N613AA', 'N613JB', 'N613SK', 'N613SW', 'N614AA', 'N614AE', 'N614SK', 'N614SW', 'N615AE', 'N615JB', 'N615SW', 'N616AA', 'N616AE', 'N616SW', 'N617AE', 'N617SW', 'N618AA', 'N618AE', 'N618JB', 'N618WN', 'N619AA', 'N619AE', 'N619SW', 'N620AA', 'N620AE', 'N620SW', 'N621AE', 'N621JB', 'N621SW', 'N622AA', 'N622AE', 'N622SW', 'N623AA', 'N623AE', 'N623JB', 'N623SW', 'N624AA', 'N624AE', 'N624JB', 'N624SW', 'N625AA', 'N625AE', 'N625CA', 'N625JB', 'N625SW', 'N62631', 'N626AA', 'N626AE', 'N626SW', 'N627AA', 'N627AE', 'N627JB', 'N627SW', 'N628AA', 'N628AE', 'N628SW', 'N629AA', 'N629AE', 'N629BR', 'N629JB', 'N629SW', 'N630AA', 'N630AE', 'N630JB', 'N630WN', 'N631AA', 'N631AE', 'N631SW', 'N632AA', 'N632AE', 'N632JB', 'N632SW', 'N633AA', 'N633AE', 'N633JB', 'N633SW', 'N634AA', 'N634AE', 'N634JB', 'N634SW', 'N635AA', 'N635AE', 'N635JB', 'N635SW', 'N636AE', 'N636JB', 'N636WN', 'N637AE', 'N637JB', 'N637SW', 'N638AA', 'N638AE', 'N638JB', 'N638SW', 'N639AA', 'N639AE', 'N639JB', 'N639SW', 'N640AE', 'N640JB', 'N640SW', 'N641AA', 'N641AE', 'N641CA', 'N641JB', 'N641SW', 'N641UA', 'N642AA', 'N642AE', 'N642CA', 'N642UA', 'N642WN', 'N643AA', 'N643AE', 'N643JB', 'N643SW', 'N643UA', 'N644AE', 'N644JB', 'N644SW', 'N644UA', 'N645AE', 'N645JB', 'N645SW', 'N646AE', 'N646BR', 'N646JB', 'N646SW', 'N646UA', 'N647AE', 'N647SW', 'N647UA', 'N648AE', 'N648JB', 'N648SW', 'N648UA', 'N649BR', 'N649JB', 'N649PP', 'N649SW', 'N649UA', 'N650AE', 'N650ML', 'N650SW', 'N651AE', 'N651BR', 'N651JB', 'N651ML', 'N651SW', 'N651UA', 'N652JB', 'N652RS', 'N652SW', 'N652UA', 'N653AE', 'N653CA', 'N653JB', 'N653SW', 'N653UA', 'N654AE', 'N654BR', 'N654SW', 'N654UA', 'N655AE', 'N655BR', 'N655CA', 'N655JB', 'N655UA', 'N655WN', 'N656AE', 'N656CA', 'N656JB', 'N656SW', 'N656UA', 'N657AE', 'N657JB', 'N657UA', 'N658AE', 'N658CA', 'N658JB', 'N658UA', 'N659AE', 'N659BR', 'N659CA', 'N659JB', 'N659UA', 'N660CL', 'N660UA', 'N661JA', 'N661JB', 'N661UA', 'N662EH', 'N662JB', 'N662SW', 'N662UA', 'N663AR', 'N663JB', 'N663SW', 'N663UA', 'N664MS', 'N664UA', 'N664WN', 'N665BC', 'N665JB', 'N665UA', 'N665WN', 'N666UA', 'N667GB', 'N667UA', 'N668AW', 'N668CA', 'N668HH', 'N668UA', 'N669AW', 'N669CA', 'N669MB', 'N669UA', 'N670AE', 'N670UA', 'N671AE', 'N671UA', 'N672AE', 'N672AW', 'N672SW', 'N672UA', 'N673AE', 'N673AW', 'N673UA', 'N674AW', 'N674RJ', 'N674UA', 'N675AE', 'N675AW', 'N675BR', 'N675UA', 'N676AE', 'N676AW', 'N676CA', 'N676UA', 'N677AE', 'N677AW', 'N677UA', 'N678AE', 'N678AW', 'N678CA', 'N679AE', 'N679AW', 'N679CA', 'N680AE', 'N680AW', 'N680BR', 'N681AE', 'N681BR', 'N682AE', 'N682BR', 'N682SW', 'N683AE', 'N683BR', 'N684BR', 'N684JW', 'N685AE', 'N685BR', 'N685SW', 'N686AE', 'N686BR', 'N687JS', 'N687SW', 'N688AE', 'N688SW', 'N689CA', 'N689EC', 'N689SW', 'N690AE', 'N690CA', 'N691AE', 'N691CA', 'N692AE', 'N692CA', 'N693AE', 'N693BR', 'N693CA', 'N694AE', 'N695AE', 'N695CA', 'N695SW', 'N69602', 'N69603', 'N696AE', 'N697AB', 'N698BR', 'N698CB', 'N699AE', 'N699BR', 'N699SW', 'N700GS', 'N700LE', 'N701DN', 'N701GS', 'N701MH', 'N701SK', 'N702AE', 'N702DN', 'N702SK', 'N702TW', 'N703JB', 'N703MR', 'N703SK', 'N703SW', 'N703TW', 'N704PG', 'N704SW', 'N704X', 'N705AE', 'N705JB', 'N705SK', 'N705SW', 'N705TW', 'N706EV', 'N706JB', 'N706RG', 'N706SK', 'N706SW', 'N706TW', 'N707EB', 'N707EV', 'N707SA', 'N707SK', 'N707TW', 'N708AE', 'N708EV', 'N708SA', 'N708SK', 'N709BR', 'N709EV', 'N709GB', 'N709SK', 'N709SW', 'N709TW', 'N710BR', 'N710CA', 'N710EV', 'N710SK', 'N710SW', 'N710TB', 'N710TW', 'N711HK', 'N711PH', 'N711ZX', 'N712AE', 'N712CA', 'N712EV', 'N712SK', 'N712SW', 'N712TW', 'N713AE', 'N713CA', 'N713EV', 'N713SK', 'N713SW', 'N713TW', 'N71411', 'N714CB', 'N715AE', 'N715SK', 'N715SW', 'N716AE', 'N716CA', 'N716EV', 'N716SK', 'N716SW', 'N717AE', 'N717EV', 'N717JL', 'N717SA', 'N717TW', 'N718AE', 'N718EV', 'N718SK', 'N718SW', 'N718TW', 'N719AE', 'N719CA', 'N719EV', 'N719SK', 'N719SW', 'N720AE', 'N720EV', 'N720SW', 'N720WN', 'N721CA', 'N721HS', 'N721TW', 'N722AE', 'N722EV', 'N722TW', 'N723AE', 'N723EV', 'N723SW', 'N72405', 'N724AE', 'N724EV', 'N724SK', 'N724SW', 'N725AE', 'N725SW', 'N7264V', 'N726AE', 'N726SK', 'N726SW', 'N727AE', 'N727SK', 'N727SW', 'N728AE', 'N728SK', 'N728SW', 'N7291Z', 'N729AE', 'N729CA', 'N729SW', 'N7305V', 'N730EV', 'N730KW', 'N730SK', 'N730SW', 'N731BE', 'N731SA', 'N73251', 'N73256', 'N73259', 'N73270', 'N73275', 'N73276', 'N73278', 'N73283', 'N73291', 'N73299', 'N732DH', 'N732SK', 'N732SW', 'N733KR', 'N733SA', 'N73406', 'N734EK', 'N734SA', 'N735CA', 'N735SA', 'N735TS', 'N736DT', 'N736SA', 'N737JW', 'N737MW', 'N738AL', 'N738CB', 'N738EV', 'N738NR', 'N738SK', 'N739AE', 'N739AL', 'N739CA', 'N739GB', 'N74007', 'N740AL', 'N740EV', 'N740SK', 'N740SW', 'N741AL', 'N741EV', 'N741SA', 'N742AL', 'N742SK', 'N742SW', 'N743SK', 'N743SW', 'N744EV', 'N744SK', 'N744SW', 'N745SK', 'N745SW', 'N746AL', 'N746SK', 'N746SW', 'N747SA', 'N748AL', 'N748EV', 'N748SK', 'N748SW', 'N749SW', 'N750EV', 'N750SA', 'N750SK', 'N751AL', 'N751EV', 'N751SK', 'N751SW', 'N752EV', 'N752SK', 'N752SW', 'N753EV', 'N753SK', 'N753SW', 'N75410', 'N754EV', 'N754SK', 'N754SW', 'N755EV', 'N755SA', 'N755SK', 'N756SA', 'N756SK', 'N757LV', 'N758EV', 'N758SK', 'N758SW', 'N75987', 'N75991', 'N75992', 'N75993', 'N75994', 'N75995', 'N75996', 'N75998', 'N759EV', 'N759GS', 'N76010', 'N760EV', 'N760SK', 'N760SW', 'N761RR', 'N76254', 'N76265', 'N76269', 'N76288', 'N762SK', 'N762SW', 'N763SK', 'N763SW', 'N764SK', 'N764SW', 'N76502', 'N76503', 'N76504', 'N76505', 'N76508', 'N765SK', 'N765SW', 'N766SK', 'N766SW', 'N767SK', 'N767SW', 'N768SK', 'N768SW', 'N768UA', 'N769SW', 'N769UA', 'N77006', 'N77014', 'N77019', 'N770SA', 'N770SK', 'N771SA', 'N771SK', 'N771UA', 'N77258', 'N77260', 'N77261', 'N77278', 'N77286', 'N77295', 'N77296', 'N772SK', 'N772SW', 'N772UA', 'N77302', 'N77331', 'N773SA', 'N773SK', 'N773UA', 'N774SK', 'N774SW', 'N774UA', 'N77510', 'N775SW', 'N775UA', 'N776SK', 'N776UA', 'N776WN', 'N777QC', 'N777UA', 'N778SK', 'N778SW', 'N778UA', 'N779CA', 'N779SW', 'N779UA', 'N78003', 'N78004', 'N78009', 'N78017', 'N780SW', 'N780UA', 'N781CA', 'N781UA', 'N781WN', 'N78285', 'N782SA', 'N782UA', 'N783CA', 'N783SW', 'N783UA', 'N784CA', 'N784SW', 'N784UA', 'N78501', 'N78506', 'N78509', 'N785CA', 'N785SW', 'N785UA', 'N786CA', 'N786SW', 'N786UA', 'N787SA', 'N787UA', 'N788SA', 'N788UA', 'N789SW', 'N79011', 'N790SW', 'N791SW', 'N791UA', 'N79279', 'N792SW', 'N792UA', 'N793SA', 'N793UA', 'N79402', 'N794SW', 'N794UA', 'N795SW', 'N795UA', 'N796CA', 'N796SW', 'N796UA', 'N797CA', 'N797MX', 'N797UA', 'N798CA', 'N798UA', 'N799SW', 'N799UA', 'N800SK', 'N801FR', 'N801NW', 'N802FR', 'N802NW', 'N802SK', 'N803FR', 'N803NW', 'N803SK', 'N804CA', 'N804FR', 'N804NW', 'N804SK', 'N805CA', 'N805FR', 'N805NW', 'N805SK', 'N806CA', 'N806FR', 'N806NW', 'N806SK', 'N807CA', 'N807FR', 'N807NW', 'N807SK', 'N808FR', 'N808NW', 'N809CA', 'N809FR', 'N809NW', 'N809SK', 'N810CA', 'N810FR', 'N810NW', 'N810SK', 'N811CA', 'N811NW', 'N812CA', 'N812FR', 'N812NW', 'N812SK', 'N813NW', 'N813SK', 'N814CA', 'N814NW', 'N814SK', 'N815CA', 'N815NW', 'N815SK', 'N816NW', 'N816SK', 'N817NW', 'N817SK', 'N818CA', 'N818NW', 'N819CA', 'N819NW', 'N820NW', 'N820SK', 'N821CA', 'N821NW', 'N821SK', 'N833AS', 'N833AW', 'N834AS', 'N834AW', 'N835AS', 'N835AW', 'N836AS', 'N836AW', 'N837AS', 'N837AW', 'N838AS', 'N838AW', 'N839AS', 'N839AW', 'N840AS', 'N840AW', 'N841AS', 'N842AS', 'N843AS', 'N844AS', 'N845AS', 'N846AS', 'N847AS', 'N848AS', 'N849AS', 'N850AS', 'N851AS', 'N852AS', 'N852NW', 'N853AS', 'N853NW', 'N854AS', 'N854NW', 'N855AS', 'N855NW', 'N856AS', 'N856NW', 'N857AS', 'N857NW', 'N858AS', 'N859AS', 'N859NW', 'N860AS', 'N861AS', 'N862AS', 'N863AS', 'N864AS', 'N865AS', 'N866AS', 'N867AS', 'N868AS', 'N868CA', 'N869AS', 'N870AS', 'N871AS', 'N872AS', 'N87353', 'N873AS', 'N874AS', 'N87507', 'N875AS', 'N876AS', 'N877AS', 'N878AS', 'N879AS', 'N880AS', 'N881AS', 'N882AS', 'N883AS', 'N884AS', 'N885AS', 'N886AS', 'N889AS', 'N891AT', 'N892AT', 'N893AT', 'N894AT', 'N895AT', 'N896AT', 'N899AT', 'N900AE', 'N900EV', 'N900WN', 'N901EV', 'N901WN', 'N902BC', 'N902EV', 'N902FJ', 'N902UA', 'N902WN', 'N903EV', 'N903FJ', 'N903SW', 'N903UA', 'N903WN', 'N904DL', 'N904EV', 'N904FJ', 'N904UA', 'N904WN', 'N905DL', 'N905EV', 'N905JH', 'N905SW', 'N905UA', 'N905WN', 'N906AE', 'N906AT', 'N906DL', 'N906EV', 'N906FJ', 'N906FR', 'N906SW', 'N906UA', 'N906WN', 'N907AE', 'N907DL', 'N907EV', 'N907FJ', 'N907FR', 'N907SW', 'N907UA', 'N907WN', 'N908AE', 'N908DL', 'N908EV', 'N908FJ', 'N908FR', 'N908SW', 'N908WN', 'N909AE', 'N909DL', 'N909EV', 'N909FJ', 'N909FR', 'N909SW', 'N909WN', 'N910AT', 'N910DL', 'N910EV', 'N910FJ', 'N910FR', 'N910SW', 'N910UA', 'N910WN', 'N911DE', 'N911DL', 'N911FJ', 'N912DE', 'N912DL', 'N912EV', 'N912FJ', 'N912FR', 'N912SW', 'N912UA', 'N912WN', 'N913AW', 'N913DE', 'N913DL', 'N913EV', 'N913FJ', 'N913FR', 'N913SW', 'N913UA', 'N913WN', 'N914AW', 'N914DE', 'N914DL', 'N914EV', 'N914FJ', 'N914FR', 'N914UA', 'N914WN', 'N915AT', 'N915AW', 'N915DE', 'N915DL', 'N915EV', 'N915FJ', 'N915FR', 'N915SW', 'N915WN', 'N916DE', 'N916DL', 'N916EV', 'N916FJ', 'N916SW', 'N916UW', 'N916WN', 'N917DE', 'N917DL', 'N917EV', 'N917FJ', 'N917FR', 'N917SW', 'N917UW', 'N917WN', 'N918AE', 'N918DE', 'N918DL', 'N918FJ', 'N918FR', 'N918SW', 'N918UA', 'N918UW', 'N918WN', 'N919AT', 'N919DE', 'N919DL', 'N919EV', 'N919FJ', 'N919FR', 'N919SW', 'N919UA', 'N919UW', 'N920AT', 'N920DE', 'N920DL', 'N920EV', 'N920FJ', 'N920FR', 'N920SW', 'N920UW', 'N921AT', 'N921DL', 'N921EV', 'N921FJ', 'N921FR', 'N921UA', 'N921UW', 'N922AE', 'N922AT', 'N922DL', 'N922EV', 'N922FJ', 'N922FR', 'N922UA', 'N922UW', 'N923AE', 'N923AT', 'N923DL', 'N923EV', 'N923FJ', 'N923FR', 'N923SW', 'N923UA', 'N923UW', 'N924AT', 'N924DL', 'N924EV', 'N924FJ', 'N924FR', 'N924SW', 'N924UA', 'N924UW', 'N925AE', 'N925AT', 'N925DL', 'N925EV', 'N925FJ', 'N925FR', 'N925SW', 'N925UA', 'N925UW', 'N926AT', 'N926DL', 'N926EV', 'N926FR', 'N926LR', 'N926SW', 'N927AT', 'N927DA', 'N927EV', 'N927FR', 'N927LR', 'N927SW', 'N927UA', 'N927UW', 'N928AE', 'N928AT', 'N928DL', 'N928EV', 'N928FR', 'N928LR', 'N928SW', 'N928UA', 'N929AT', 'N929DL', 'N929EV', 'N929FR', 'N929LR', 'N929SW', 'N929UA', 'N929UW', 'N930AT', 'N930DL', 'N930EV', 'N930FR', 'N930LR', 'N930SW', 'N930UA', 'N930UW', 'N931AE', 'N931DL', 'N931EV', 'N931FR', 'N931LR', 'N932AE', 'N932AT', 'N932DL', 'N932EV', 'N932FR', 'N932LR', 'N932SW', 'N932UA', 'N932UW', 'N933AT', 'N933DL', 'N933EV', 'N933FR', 'N933JN', 'N933LR', 'N933UA', 'N933UW', 'N934AT', 'N934DL', 'N934EV', 'N934FJ', 'N934FR', 'N934SW', 'N934UA', 'N934UW', 'N935AE', 'N935AT', 'N935DL', 'N935EV', 'N935FR', 'N935LR', 'N935SW', 'N935UA', 'N935UW', 'N936AT', 'N936DL', 'N936EV', 'N936FR', 'N936SW', 'N936UA', 'N936UW', 'N937AT', 'N937DL', 'N937EV', 'N937FR', 'N937SW', 'N937UA', 'N937UW', 'N938AT', 'N938DL', 'N938FR', 'N938LR', 'N938SW', 'N938UA', 'N938UW', 'N939AE', 'N939AT', 'N939DL', 'N939FR', 'N939LR', 'N939SW', 'N939UW', 'N940AT', 'N940DL', 'N940FR', 'N940UW', 'N941DL', 'N941FR', 'N941LT', 'N941SW', 'N941UA', 'N941UW', 'N942AT', 'N942DL', 'N942FR', 'N942LR', 'N942UA', 'N942UW', 'N943AT', 'N943DL', 'N943FR', 'N943SW', 'N944AS', 'N944AT', 'N944DL', 'N944FR', 'N944SW', 'N944UW', 'N945AT', 'N945DL', 'N945FR', 'N945SW', 'N945UW', 'N946AT', 'N946DL', 'N946FR', 'N946SW', 'N946UW', 'N947AT', 'N947DL', 'N947FR', 'N947SW', 'N947UW', 'N948AS', 'N948AT', 'N948DL', 'N948FR', 'N948SW', 'N948UW', 'N949AT', 'N949DL', 'N949FR', 'N949UW', 'N950AT', 'N950DL', 'N950FR', 'N950UW', 'N951AT', 'N951DL', 'N951SW', 'N951UW', 'N952AT', 'N952DL', 'N952SW', 'N952UW', 'N953AT', 'N953DL', 'N953SW', 'N953UW', 'N954AT', 'N954DL', 'N954SW', 'N954UW', 'N955AT', 'N955DL', 'N955SW', 'N955UW', 'N956AT', 'N956DL', 'N956LR', 'N956SW', 'N956UW', 'N957AT', 'N957DL', 'N957SW', 'N957UW', 'N958AS', 'N958AT', 'N958DL', 'N958SW', 'N958UW', 'N959AT', 'N959DL', 'N959SW', 'N959UW', 'N960AS', 'N960AT', 'N960DL', 'N960SW', 'N961AS', 'N961AT', 'N961DL', 'N961SW', 'N962AS', 'N962DL', 'N962SW', 'N963AT', 'N963DL', 'N963SW', 'N964AT', 'N964DL', 'N964SW', 'N965AT', 'N965DL', 'N965SW', 'N966AT', 'N966DL', 'N967AT', 'N967DL', 'N967SW', 'N968AS', 'N968AT', 'N968DL', 'N969AS', 'N969AT', 'N969DL', 'N969SW', 'N970AT', 'N970DL', 'N970EV', 'N970SW', 'N971AT', 'N971DL', 'N971EV', 'N971SW', 'N972AS', 'N972AT', 'N972DL', 'N972EV', 'N97325', 'N973DL', 'N973EV', 'N973SW', 'N974AT', 'N974DL', 'N974EV', 'N975AS', 'N975AT', 'N975DL', 'N975EV', 'N975SW', 'N976DL', 'N976EV', 'N976SW', 'N977AS', 'N977AT', 'N977DL', 'N977EV', 'N978AT', 'N978DL', 'N978EV', 'N978SW', 'N979AT', 'N979DL', 'N979EV', 'N979SW', 'N980AT', 'N980DL', 'N980EV', 'N980SW', 'N981AT', 'N981DL', 'N981EV', 'N982AT', 'N982DL', 'N982SW', 'N983AT', 'N983DL', 'N983SW', 'N984DL', 'N985AT', 'N985DL', 'N986AT', 'N986DL', 'N986SW', 'N987AT', 'N987DL', 'N988AT', 'N988DL', 'N989AT', 'N989DL', 'N990AT', 'N990DL', 'N991AT', 'N991DL', 'N992AT', 'N992DL', 'N993AT', 'N993DL', 'N994AT', 'N995AT', 'N995DL', 'N996AT', 'N996DL', 'N997AT', 'N997DL', 'N998AT']\n",
      "Turbo-Jet : ['N10323', 'N105UA', 'N12109', 'N12114', 'N12116', 'N12125', 'N12313', 'N12318', 'N12319', 'N12322', 'N12327', 'N12349', 'N12934', 'N12946', 'N1309T', 'N13110', 'N13113', 'N13138', 'N1332U', 'N1334U', 'N13716', 'N13718', 'N13720', 'N13750', 'N13929', 'N13935', 'N13936', 'N14102', 'N14106', 'N14107', 'N14115', 'N14118', 'N14120', 'N14121', 'N14308', 'N14320', 'N14324', 'N14325', 'N14334', 'N14335', 'N14336', 'N14337', 'N14341', 'N14342', 'N14346', 'N14347', 'N14358', 'N14505', 'N14508', 'N14704', 'N14731', 'N14735', 'N14925', 'N14930', 'N14933', 'N14937', 'N14938', 'N14939', 'N14940', 'N14942', 'N14943', 'N14945', 'N14947', 'N154AW', 'N154SF', 'N15509', 'N155AW', 'N156AW', 'N15710', 'N15712', 'N157AW', 'N158AW', 'N15926', 'N15932', 'N15941', 'N15948', 'N160AW', 'N161UW', 'N162UW', 'N16301', 'N16310', 'N16339', 'N163US', 'N16501', 'N16502', 'N16510', 'N16511', 'N165US', 'N16701', 'N16703', 'N16709', 'N16713', 'N16732', 'N167US', 'N16927', 'N16944', 'N169UW', 'N170US', 'N17104', 'N17105', 'N17122', 'N17126', 'N17128', 'N17133', 'N17139', 'N17156', 'N17175', 'N171US', 'N17231', 'N172US', 'N17321', 'N17326', 'N17328', 'N17329', 'N17344', 'N17345', 'N17356', 'N173US', 'N174US', 'N17507', 'N176UW', 'N17719', 'N17730', 'N177US', 'N178US', 'N17928', 'N1799U', 'N179UW', 'N180US', 'N18112', 'N18119', 'N181UW', 'N182UW', 'N18350', 'N183UW', 'N184US', 'N185UW', 'N186US', 'N187US', 'N188US', 'N189UW', 'N190UW', 'N19117', 'N19130', 'N19136', 'N19141', 'N191UW', 'N192UW', 'N19357', 'N19503', 'N21108', 'N21723', 'N23707', 'N23708', 'N23721', 'N245AY', 'N246AY', 'N24702', 'N24706', 'N24715', 'N24729', 'N24736', 'N248AY', 'N249AU', 'N250AY', 'N251AY', 'N252AU', 'N253AY', 'N25504', 'N255AY', 'N256AY', 'N25705', 'N26123', 'N270AY', 'N27172', 'N27173', 'N27185', 'N27191', 'N271AY', 'N272AY', 'N273AY', 'N274AY', 'N27506', 'N27512', 'N275AY', 'N276AY', 'N27722', 'N27724', 'N27733', 'N27734', 'N277AY', 'N278AY', 'N27962', 'N29124', 'N29129', 'N29717', 'N301US', 'N302AS', 'N302AW', 'N303AS', 'N303AW', 'N303US', 'N304US', 'N305AS', 'N305AW', 'N305US', 'N306AS', 'N306AW', 'N307AS', 'N307AW', 'N308AW', 'N309AS', 'N309AW', 'N309US', 'N310NW', 'N311AW', 'N311US', 'N312US', 'N313US', 'N314US', 'N315AS', 'N315US', 'N316US', 'N317AS', 'N317US', 'N318AS', 'N318US', 'N319AS', 'N319US', 'N320AS', 'N320US', 'N321US', 'N322AW', 'N322US', 'N323AS', 'N323US', 'N324US', 'N325US', 'N326US', 'N327NW', 'N328NW', 'N329NW', 'N330NW', 'N33103', 'N33132', 'N331NW', 'N3324L', 'N332NW', 'N333NW', 'N33714', 'N340LV', 'N34131', 'N34137', 'N345SA', 'N37178', 'N371DA', 'N37208', 'N372DA', 'N3730B', 'N3731T', 'N3732J', 'N3733Z', 'N3734B', 'N3735D', 'N3736C', 'N3737C', 'N3738B', 'N373DA', 'N3740C', 'N3741S', 'N3742C', 'N3743H', 'N3745B', 'N3746H', 'N3747D', 'N3748Y', 'N3749D', 'N374DA', 'N3750D', 'N3751B', 'N3752', 'N3753', 'N3754A', 'N3755D', 'N3756', 'N3757D', 'N3758Y', 'N3759', 'N375DA', 'N3760C', 'N3761R', 'N3762Y', 'N3763D', 'N3764D', 'N3765', 'N3766', 'N3767', 'N3768', 'N3769L', 'N376DA', 'N37700', 'N3771K', 'N377DA', 'N378DA', 'N379DA', 'N380DA', 'N382AA', 'N382DA', 'N383DN', 'N384DA', 'N385DN', 'N386DA', 'N38727', 'N387DA', 'N388DA', 'N389DA', 'N390DA', 'N391DA', 'N392DA', 'N39343', 'N393DA', 'N394DA', 'N395DN', 'N396DA', 'N39726', 'N39728', 'N397DA', 'N398DA', 'N399DA', 'N401EA', 'N401UA', 'N402UA', 'N403SW', 'N403UA', 'N404UA', 'N404US', 'N405SW', 'N405UA', 'N405US', 'N406SW', 'N406UA', 'N406US', 'N407SW', 'N407UA', 'N408SW', 'N408UA', 'N409SW', 'N409UA', 'N409US', 'N410SW', 'N410UA', 'N41135', 'N41140', 'N411SW', 'N411UA', 'N412SW', 'N412UA', 'N413SW', 'N413UA', 'N414UA', 'N415UA', 'N416SW', 'N416UA', 'N417UA', 'N417US', 'N418UA', 'N418US', 'N419UA', 'N419US', 'N420UA', 'N420US', 'N421UA', 'N421US', 'N422UA', 'N422US', 'N423UA', 'N423US', 'N424UA', 'N424US', 'N425UA', 'N425US', 'N426UA', 'N426US', 'N427UA', 'N427US', 'N428UA', 'N429UA', 'N430UA', 'N430US', 'N431UA', 'N432UA', 'N432US', 'N433UA', 'N433US', 'N434UA', 'N434US', 'N435UA', 'N435US', 'N436UA', 'N437UA', 'N438UA', 'N438US', 'N439UA', 'N439US', 'N440UA', 'N440US', 'N441UA', 'N441US', 'N442UA', 'N442US', 'N443UA', 'N443US', 'N444UA', 'N444US', 'N445UA', 'N445US', 'N446UA', 'N447UA', 'N448UA', 'N449UA', 'N449US', 'N450UW', 'N451UA', 'N451UW', 'N452UA', 'N452UW', 'N453UA', 'N453UW', 'N454UA', 'N454UW', 'N455UA', 'N455UW', 'N456UA', 'N456UW', 'N457UA', 'N457UW', 'N458UA', 'N458UW', 'N459UA', 'N459UW', 'N460UA', 'N460UW', 'N461UA', 'N462UA', 'N463UA', 'N464UA', 'N465UA', 'N466UA', 'N467UA', 'N468UA', 'N469UA', 'N470UA', 'N471UA', 'N47202', 'N472UA', 'N47332', 'N473UA', 'N474UA', 'N475UA', 'N476UA', 'N477UA', 'N478UA', 'N479UA', 'N480UA', 'N48127', 'N481UA', 'N482UA', 'N483UA', 'N484UA', 'N485UA', 'N486UA', 'N487UA', 'N488UA', 'N492SW', 'N501SW', 'N501UA', 'N501US', 'N502SW', 'N502UA', 'N502US', 'N503JB', 'N503SW', 'N503UA', 'N503US', 'N504JB', 'N504SW', 'N504UA', 'N504US', 'N505JB', 'N505SW', 'N505UA', 'N505US', 'N506JB', 'N506SW', 'N506UA', 'N506US', 'N507SW', 'N507UA', 'N507US', 'N508SW', 'N508UA', 'N508US', 'N509JB', 'N509SW', 'N509UA', 'N509US', 'N510JB', 'N510SW', 'N510UA', 'N511SW', 'N511UA', 'N511US', 'N512SW', 'N512UA', 'N512US', 'N513SW', 'N513UA', 'N513US', 'N514SW', 'N514UA', 'N514US', 'N515SW', 'N515UA', 'N515US', 'N516JB', 'N516UA', 'N516US', 'N517JB', 'N517UA', 'N517US', 'N518UA', 'N518US', 'N519JB', 'N519SW', 'N519UA', 'N519US', 'N520JB', 'N520SW', 'N520UA', 'N520US', 'N521JB', 'N521SW', 'N521UA', 'N521US', 'N522SW', 'N522UA', 'N522US', 'N523JB', 'N523SW', 'N523UA', 'N523US', 'N524JB', 'N524SW', 'N524UA', 'N525SW', 'N525UA', 'N525US', 'N526SW', 'N526UA', 'N526US', 'N527SW', 'N527UA', 'N527US', 'N528JB', 'N528SW', 'N528UA', 'N528US', 'N529JB', 'N529UA', 'N529US', 'N530UA', 'N530US', 'N531UA', 'N531US', 'N532UA', 'N532US', 'N533UA', 'N533US', 'N534JB', 'N534UA', 'N534US', 'N535JB', 'N535UA', 'N535US', 'N536UA', 'N536US', 'N537UA', 'N537US', 'N538UA', 'N538US', 'N539UA', 'N540UA', 'N541UA', 'N542UA', 'N544UA', 'N544US', 'N545UA', 'N545US', 'N546UA', 'N546US', 'N54711', 'N547UA', 'N547US', 'N548UA', 'N548US', 'N549AS', 'N549UA', 'N549US', 'N550UA', 'N551NW', 'N551UA', 'N552NW', 'N552UA', 'N553NW', 'N553UA', 'N554NW', 'N554UA', 'N555NW', 'N555UA', 'N556NW', 'N556UA', 'N557NW', 'N557UA', 'N558UA', 'N559UA', 'N560UA', 'N561UA', 'N562UA', 'N563UA', 'N564UA', 'N565UA', 'N566UA', 'N567UA', 'N56859', 'N568UA', 'N569UA', 'N570ML', 'N570UA', 'N57111', 'N571ML', 'N571UA', 'N572UA', 'N573UA', 'N574UA', 'N574US', 'N575UA', 'N576UA', 'N577UA', 'N57852', 'N57855', 'N57857', 'N57863', 'N57864', 'N57868', 'N57869', 'N578UA', 'N579UA', 'N580UA', 'N58101', 'N581NW', 'N581UA', 'N582NW', 'N582UA', 'N583NW', 'N583UA', 'N584HA', 'N584NW', 'N584UA', 'N585HA', 'N585NW', 'N585UA', 'N586HA', 'N586NW', 'N586UA', 'N587NW', 'N587SW', 'N587UA', 'N588HA', 'N588NW', 'N588SW', 'N588UA', 'N588US', 'N589NW', 'N589SW', 'N589UA', 'N589US', 'N59053', 'N590HA', 'N590NW', 'N590SW', 'N590UA', 'N590US', 'N591NW', 'N591SW', 'N591US', 'N592HA', 'N592NW', 'N592UA', 'N59302', 'N59338', 'N593NW', 'N593UA', 'N594NW', 'N594UA', 'N595NW', 'N595UA', 'N596NW', 'N596UA', 'N597UA', 'N598UA', 'N600TR', 'N601DL', 'N602AW', 'N602DL', 'N602NW', 'N603DL', 'N604AW', 'N604DL', 'N605AW', 'N605DL', 'N606DL', 'N606NW', 'N607AS', 'N607DL', 'N608DA', 'N608NW', 'N609AS', 'N609DL', 'N610AE', 'N610DL', 'N610NW', 'N611AE', 'N611AS', 'N611DL', 'N612AE', 'N612AS', 'N612DL', 'N61304', 'N613AE', 'N613AS', 'N613DL', 'N613NW', 'N614AS', 'N614DL', 'N615AS', 'N615DL', 'N616DL', 'N617AS', 'N617DL', 'N618AS', 'N618DL', 'N619AS', 'N619AW', 'N619DL', 'N620AW', 'N621AW', 'N621DL', 'N622AS', 'N622AW', 'N622DL', 'N623AS', 'N623DL', 'N624AS', 'N624AW', 'N624DL', 'N625AS', 'N625AW', 'N625DL', 'N626AS', 'N626AW', 'N626DL', 'N627AS', 'N627AW', 'N627DL', 'N628AW', 'N628DL', 'N629AW', 'N629DL', 'N630DL', 'N631AW', 'N631DL', 'N632AW', 'N632DL', 'N63305', 'N633AW', 'N633DL', 'N634AW', 'N634DL', 'N635DL', 'N636AW', 'N636DL', 'N637AW', 'N637DL', 'N638DL', 'N639DL', 'N640AW', 'N640DL', 'N641DL', 'N642AW', 'N642DL', 'N643DL', 'N644AS', 'N644AW', 'N644DL', 'N645DL', 'N646DL', 'N647AS', 'N647AW', 'N647DL', 'N648AW', 'N648DL', 'N649AS', 'N649AW', 'N649DL', 'N650AW', 'N650DL', 'N651AW', 'N651DL', 'N652AW', 'N652DL', 'N653AW', 'N653DL', 'N654AW', 'N654DL', 'N655AW', 'N655DL', 'N656AW', 'N656DL', 'N657AW', 'N657DL', 'N657SW', 'N658AW', 'N658DL', 'N658SW', 'N659AW', 'N659DL', 'N659SW', 'N66051', 'N66056', 'N66057', 'N660AW', 'N660DL', 'N660SW', 'N661AW', 'N661DN', 'N661SW', 'N662AW', 'N662DN', 'N663AW', 'N663DN', 'N664AW', 'N664DN', 'N665AW', 'N665DN', 'N666DN', 'N667AW', 'N667DN', 'N667SW', 'N668DN', 'N669DN', 'N669SW', 'N6700', 'N6701', 'N6702', 'N6703D', 'N6704Z', 'N67052', 'N67058', 'N6705Y', 'N6706Q', 'N6707A', 'N6708D', 'N6709', 'N670DN', 'N670MC', 'N670SW', 'N6710E', 'N6711M', 'N6712B', 'N67134', 'N6713Y', 'N6714Q', 'N67157', 'N67158', 'N6715C', 'N6716C', 'N67171', 'N671DN', 'N671MC', 'N671SW', 'N672DL', 'N673AA', 'N673DL', 'N674AA', 'N674DL', 'N675AA', 'N675DL', 'N675MC', 'N676DL', 'N676MC', 'N676SW', 'N677AA', 'N677DL', 'N677MC', 'N678AA', 'N678DL', 'N679AA', 'N679DA', 'N68061', 'N680AA', 'N680DA', 'N68155', 'N68159', 'N68160', 'N681DA', 'N682DA', 'N683DA', 'N683SW', 'N684DA', 'N684WN', 'N685DA', 'N686DA', 'N686SW', 'N687DL', 'N688DL', 'N689DL', 'N69059', 'N69063', 'N690DL', 'N690SW', 'N69154', 'N691WN', 'N692DL', 'N692SW', 'N69311', 'N69333', 'N69348', 'N69351', 'N693DL', 'N693SW', 'N694SW', 'N697DL', 'N697SW', 'N698DL', 'N698SW', 'N699DL', 'N700UW', 'N701UW', 'N702UW', 'N70330', 'N70352', 'N70353', 'N703AS', 'N703UW', 'N704US', 'N705AS', 'N705UW', 'N706AS', 'N708AS', 'N708CA', 'N708UW', 'N709CA', 'N709UW', 'N710UW', 'N711UW', 'N712US', 'N713AS', 'N713UW', 'N714US', 'N715SF', 'N715UW', 'N716UW', 'N717UW', 'N721UW', 'N722US', 'N723UW', 'N724UW', 'N725UW', 'N730US', 'N73152', 'N732US', 'N733UW', 'N737US', 'N738US', 'N740UW', 'N741UW', 'N742PS', 'N744P', 'N745VJ', 'N746UW', 'N747UW', 'N74856', 'N748UW', 'N749US', 'N750AT', 'N750NW', 'N750UW', 'N751AT', 'N751NW', 'N751UW', 'N752AT', 'N752NW', 'N752US', 'N753NW', 'N753US', 'N754AS', 'N754NW', 'N754UW', 'N755AS', 'N755NW', 'N755US', 'N756AS', 'N756NW', 'N756US', 'N757AT', 'N757UW', 'N75851', 'N75853', 'N75854', 'N75858', 'N75861', 'N758NW', 'N758US', 'N759NW', 'N76054', 'N76055', 'N76062', 'N76064', 'N76065', 'N760AS', 'N760NC', 'N760NW', 'N760US', 'N76151', 'N76153', 'N76156', 'N761NC', 'N762AS', 'N762NC', 'N762NW', 'N762US', 'N76354', 'N76355', 'N763AS', 'N763NW', 'N763US', 'N764AS', 'N764NC', 'N764US', 'N765AS', 'N765NC', 'N765US', 'N766NC', 'N766US', 'N767AS', 'N767NC', 'N767UW', 'N768AS', 'N768NC', 'N768US', 'N769AS', 'N769NC', 'N769US', 'N77066', 'N770NC', 'N770UW', 'N77181', 'N77195', 'N771AS', 'N771NC', 'N772AS', 'N772NC', 'N77303', 'N773AS', 'N773NC', 'N774AS', 'N774NC', 'N775AS', 'N775NC', 'N776AS', 'N776NC', 'N777NC', 'N77865', 'N77867', 'N778AS', 'N778NC', 'N779AS', 'N779NC', 'N78060', 'N780AS', 'N780NC', 'N781NC', 'N782AS', 'N782NC', 'N783AS', 'N783NC', 'N784AS', 'N784NC', 'N785AS', 'N785NC', 'N786AS', 'N786NC', 'N787NC', 'N78866', 'N788AS', 'N791AS', 'N792AS', 'N793AS', 'N794AS', 'N795AS', 'N796AS', 'N797AS', 'N798SW', 'N799AS', 'N800AE', 'N801AE', 'N801AW', 'N801UA', 'N802AE', 'N802AW', 'N803AE', 'N803AW', 'N804AE', 'N804AW', 'N804UA', 'N805AE', 'N805AW', 'N805UA', 'N806AE', 'N806AW', 'N806UA', 'N807AE', 'N807AW', 'N807UA', 'N808AE', 'N808AW', 'N808UA', 'N809AE', 'N809AW', 'N809UA', 'N810AE', 'N810AL', 'N810AW', 'N810UA', 'N811AE', 'N811UA', 'N812AE', 'N812AW', 'N812UA', 'N813AE', 'N813AW', 'N813UA', 'N814AE', 'N814AW', 'N814UA', 'N815AE', 'N815AW', 'N815UA', 'N816AE', 'N816AW', 'N816UA', 'N817AE', 'N817AW', 'N817UA', 'N818AE', 'N818AW', 'N818UA', 'N819AE', 'N819AW', 'N819UA', 'N820AE', 'N820AS', 'N820AW', 'N820UA', 'N821AE', 'N821AS', 'N821AW', 'N821UA', 'N822AE', 'N822AW', 'N822UA', 'N823AE', 'N823AL', 'N823AS', 'N823AW', 'N823UA', 'N824AE', 'N824AL', 'N824AS', 'N824AW', 'N824UA', 'N825AE', 'N825AS', 'N825AW', 'N825MH', 'N825UA', 'N826AE', 'N826AL', 'N826AS', 'N826AW', 'N826MH', 'N826UA', 'N827AE', 'N827AS', 'N827AW', 'N827MH', 'N827UA', 'N828AE', 'N828AL', 'N828AS', 'N828AW', 'N828MH', 'N828UA', 'N829AE', 'N829AS', 'N829AW', 'N829MH', 'N829UA', 'N830AE', 'N830AS', 'N830AW', 'N830MH', 'N830UA', 'N831AE', 'N831AW', 'N831MH', 'N831UA', 'N832AE', 'N832AS', 'N832AW', 'N832MH', 'N832UA', 'N833AE', 'N833MH', 'N833UA', 'N834AE', 'N834MH', 'N834UA', 'N835AE', 'N835AL', 'N835MH', 'N835UA', 'N836AE', 'N836AL', 'N836MH', 'N836UA', 'N837AE', 'N837AL', 'N837MH', 'N837UA', 'N838AE', 'N838MH', 'N838UA', 'N839AE', 'N839MH', 'N839UA', 'N840AE', 'N840MH', 'N840UA', 'N841AE', 'N841AL', 'N841MH', 'N841UA', 'N842AE', 'N842MH', 'N842UA', 'N843AE', 'N843AL', 'N843MH', 'N843UA', 'N844AE', 'N844MH', 'N844UA', 'N845AE', 'N845MH', 'N845UA', 'N846AE', 'N846UA', 'N847AE', 'N847UA', 'N848AE', 'N848UA', 'N849AE', 'N849UA', 'N850AE', 'N850UA', 'N851AE', 'N851UA', 'N852AE', 'N852UA', 'N853AE', 'N853UA', 'N854AE', 'N854UA', 'N855AE', 'N855UA', 'N856AE', 'N857AE', 'N858AE', 'N860DA', 'N861DA', 'N862DA', 'N863DA', 'N864DA', 'N865DA', 'N866DA', 'N867DA', 'N8920E', 'N8921E', 'N8923E', 'N8925E', 'N8926E', 'N8928E', 'N8929E', 'N8932E', 'N8933E', 'N8938E', 'N8944E', 'N8945E', 'N8960E', 'N8978E', 'N8986E', 'N900DE', 'N900PC', 'N901AW', 'N901DA', 'N901DE', 'N901FR', 'N902AW', 'N902DA', 'N902DE', 'N902FR', 'N903AW', 'N903DA', 'N903DE', 'N903FR', 'N904AW', 'N904DA', 'N904DE', 'N904FR', 'N905AW', 'N905DA', 'N905DE', 'N905FR', 'N906AW', 'N906DA', 'N906DE', 'N907DA', 'N907DE', 'N908AW', 'N908DA', 'N908DE', 'N909AW', 'N909DA', 'N909DE', 'N910AW', 'N910DE', 'N910DN', 'N911DA', 'N912CA', 'N912DN', 'N913DN', 'N914CA', 'N914DN', 'N915CA', 'N915DN', 'N915RW', 'N916CA', 'N916DN', 'N916FR', 'N916RW', 'N917CA', 'N918CA', 'N920CA', 'N921RW', 'N923RW', 'N924CA', 'N924RW', 'N925US', 'N926CA', 'N926NW', 'N927CA', 'N929CA', 'N931CA', 'N932CA', 'N9332', 'N9333', 'N9338', 'N9339', 'N933CA', 'N9343', 'N9346', 'N936CA', 'N937CA', 'N938CA', 'N940CA', 'N940N', 'N941CA', 'N943N', 'N945N', 'N954CA', 'N956CA', 'N957CA', 'N958CA', 'N959CA', 'N960CA', 'N962CA', 'N963CA', 'N964CA', 'N965CA', 'N966CA', 'N967CA', 'N967N', 'N969CA', 'N973CA', 'N979AS', 'N982AS', 'N983CA', 'N984CA', 'N984US', 'N986CA', 'N987US', 'N988CA', 'N989CA', 'N991cA', 'N994DL', 'N998DL', 'N999CA', 'N999DN']\n",
      "Turbo-Prop : ['N211NE', 'N215SW', 'N216SW', 'N217SW', 'N218AE', 'N218SW', 'N219AE', 'N220SW', 'N221SW', 'N223SW', 'N224SW', 'N226SW', 'N227SW', 'N229SW', 'N232AE', 'N232SW', 'N233SW', 'N234SW', 'N235SW', 'N236AE', 'N236SW', 'N237SW', 'N238AE', 'N240DS', 'N250AE', 'N250YV', 'N251YV', 'N253AE', 'N263AE', 'N266AE', 'N270YV', 'N271WN', 'N271YV', 'N273AE', 'N284YV', 'N286AE', 'N288SW', 'N289YV', 'N290SW', 'N291SW', 'N292SW', 'N292UX', 'N293SW', 'N294SW', 'N295SW', 'N295UX', 'N296SW', 'N297SW', 'N298AE', 'N298SW', 'N299SW', 'N301AE', 'N301YV', 'N304AE', 'N307AE', 'N308SW', 'N313AE', 'N317AE', 'N320AE', 'N323AE', 'N324AE', 'N329AE', 'N340RC', 'N375AA', 'N383AA', 'N384AE', 'N393SW', 'N394AE', 'N434YV', 'N436YV', 'N437YV', 'N444YV', 'N445YV', 'N446YV', 'N447YV', 'N448YV', 'N449YV', 'N454YV', 'N455YV', 'N456YV', 'N541AA', 'N550AA', 'N560SW', 'N561SW', 'N562SW', 'N563SW', 'N564SW', 'N565SW', 'N566SW', 'N567SW', 'N568SW', 'N569SW', 'N576SW', 'N578SW', 'N579SW', 'N580SW', 'N581SW', 'N582SW', 'N583SW', 'N584SW', 'N585SW', 'N586SW', 'N615AA', 'N630AS', 'N631AS', 'N632AS', 'N633AS', 'N634AS', 'N635AS', 'N636AS', 'N637AS', 'N640AS', 'N641AS', 'N642AS', 'N643AS', 'N805LR', 'N902AE', 'N904AE', 'N987HA', 'N988HA', 'N989HA', 'N991HA']\n",
      "Turbo-Shaft : ['N343AA', 'N347AA', 'N348AA', 'N349AA', 'N365AA', 'N380AA', 'N508AA']\n"
     ]
    }
   ],
   "source": [
    "## 18. List planes made by engine type\n",
    "planes = airline.planes.distinct('engine_type')\n",
    "for engine_type in planes:\n",
    "    m = engine_type\n",
    "    t = airline.planes.find({'engine_type':m})\n",
    "    types = t.distinct('tailnum')\n",
    "    print(m,':',types)"
   ]
  },
  {
   "cell_type": "code",
   "execution_count": null,
   "metadata": {},
   "outputs": [],
   "source": [
    "Git Hub Reposiroty: https://github.com/yiliang-lin/Cisc_525-Final-Yiliang-Lin"
   ]
  }
 ],
 "metadata": {
  "kernelspec": {
   "display_name": "Python 3",
   "language": "python",
   "name": "python3"
  },
  "language_info": {
   "codemirror_mode": {
    "name": "ipython",
    "version": 3
   },
   "file_extension": ".py",
   "mimetype": "text/x-python",
   "name": "python",
   "nbconvert_exporter": "python",
   "pygments_lexer": "ipython3",
   "version": "3.6.9"
  }
 },
 "nbformat": 4,
 "nbformat_minor": 4
}
